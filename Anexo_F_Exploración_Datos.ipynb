{
  "nbformat": 4,
  "nbformat_minor": 0,
  "metadata": {
    "colab": {
      "provenance": [],
      "include_colab_link": true
    },
    "kernelspec": {
      "name": "python3",
      "display_name": "Python 3"
    },
    "language_info": {
      "name": "python"
    }
  },
  "cells": [
    {
      "cell_type": "markdown",
      "metadata": {
        "id": "view-in-github",
        "colab_type": "text"
      },
      "source": [
        "<a href=\"https://colab.research.google.com/github/lreinosoh/Anexos_PG/blob/main/Anexo_F_Exploraci%C3%B3n_Datos.ipynb\" target=\"_parent\"><img src=\"https://colab.research.google.com/assets/colab-badge.svg\" alt=\"Open In Colab\"/></a>"
      ]
    },
    {
      "cell_type": "code",
      "source": [
        "import numpy as np\n",
        "import matplotlib.pyplot as plt\n",
        "import pandas as pd\n",
        "import seaborn as sns\n",
        "import plotly.express as px\n",
        "from numpy.lib.shape_base import tile"
      ],
      "metadata": {
        "id": "GGdxSk1a2Py5"
      },
      "execution_count": null,
      "outputs": []
    },
    {
      "cell_type": "code",
      "source": [
        "from google.colab import drive\n",
        "drive.mount('/content/drive')"
      ],
      "metadata": {
        "colab": {
          "base_uri": "https://localhost:8080/"
        },
        "id": "UuMfMVeSDiz1",
        "outputId": "9d3ae956-3628-441c-850e-bc9bd9239c20"
      },
      "execution_count": null,
      "outputs": [
        {
          "output_type": "stream",
          "name": "stdout",
          "text": [
            "Drive already mounted at /content/drive; to attempt to forcibly remount, call drive.mount(\"/content/drive\", force_remount=True).\n"
          ]
        }
      ]
    },
    {
      "cell_type": "code",
      "source": [
        "notas_t = pd.read_excel(\"/content/drive/MyDrive/Maestría Analítica de Datos -AL/PROYECTO DE PROFUNDIZACIÓN/Proyecto_Profundización_1/BASES DE DATOS/BASE ESTUDIANTES SISTEMAS V7.xlsx\")#Carga de Datos\n",
        "#notas_t.head(5)"
      ],
      "metadata": {
        "id": "h79mEz0g_Rmu"
      },
      "execution_count": null,
      "outputs": []
    },
    {
      "cell_type": "code",
      "source": [
        "notas_t.shape"
      ],
      "metadata": {
        "colab": {
          "base_uri": "https://localhost:8080/"
        },
        "id": "eFnqp5MLjr-E",
        "outputId": "e451f300-24e9-4f0c-c21f-9128b368c4d5"
      },
      "execution_count": null,
      "outputs": [
        {
          "output_type": "execute_result",
          "data": {
            "text/plain": [
              "(48770, 42)"
            ]
          },
          "metadata": {},
          "execution_count": 34
        }
      ]
    },
    {
      "cell_type": "code",
      "source": [
        "notas_t['CARRERA'].value_counts()"
      ],
      "metadata": {
        "colab": {
          "base_uri": "https://localhost:8080/"
        },
        "id": "wSsA-R3eQLgh",
        "outputId": "6bcf0494-c431-4344-b4ac-873fd4435854"
      },
      "execution_count": null,
      "outputs": [
        {
          "output_type": "execute_result",
          "data": {
            "text/plain": [
              "CARRERA\n",
              "INGENIERÍA DE SISTEMAS    48770\n",
              "Name: count, dtype: int64"
            ]
          },
          "metadata": {},
          "execution_count": 35
        }
      ]
    },
    {
      "cell_type": "code",
      "source": [
        "notas_t.isnull().sum()"
      ],
      "metadata": {
        "colab": {
          "base_uri": "https://localhost:8080/"
        },
        "id": "19o6Y779Rg2g",
        "outputId": "7dd4ea8f-0a8c-4ee5-cd4c-5ffc6fdd2446"
      },
      "execution_count": null,
      "outputs": [
        {
          "output_type": "execute_result",
          "data": {
            "text/plain": [
              "PLAN 4064                             0\n",
              "PERIODO                               0\n",
              "CARRERA                               0\n",
              "DEPARTAMENTO_DEDICACION               0\n",
              "CÓDIGO                                0\n",
              "ASIGNATURA                            0\n",
              "CRÉDITOS TEÓRICOS                     0\n",
              "PREREQUISITO1_COD                 33499\n",
              "PREREQUISITO1_ASIGNATURA          33499\n",
              "NOTA DEFINITIVA PREREQUISITO 1    35491\n",
              "PREREQUISITO2_COD                 44660\n",
              "PREREQUISITO2_ASIGNATURA          44660\n",
              "NOTA DEFINITIVA PREREQUISITO 2    45018\n",
              "GRUPO                              4194\n",
              "DESCRIPCIÓN                           0\n",
              "DEPARTAMENTO PROFESOR                21\n",
              "DOCUMENTO DOCENTE                     0\n",
              "PRIMER APELLIDO DOCENTE               0\n",
              "SEGUNDO APELLIDO DOCENTE           2135\n",
              "NOMBRE DOCENTE                        0\n",
              "DOCUMENTO ESTUDIANTE                  0\n",
              "PRIMER APELLIDO                       0\n",
              "SEGUNDO APELLIDO                    130\n",
              "NOMBRE                                0\n",
              "GÉNERO                                0\n",
              "NIVEL                                 0\n",
              "TIPO INGRESO                          0\n",
              "SUBACCESO                             0\n",
              "NOTAS PRIMER CORTE                 7611\n",
              "FALLAS PRIMER CORTE               41947\n",
              "NOTAS SEGUNDO CORTE                8019\n",
              "FALLAS SEGUNDO CORTE              42274\n",
              "PROMEDIO PARCIAL                      0\n",
              "NOTAS EXAMEN                      11309\n",
              "FALLAS EXAMEN                     43676\n",
              "DEFINITIVA                         6465\n",
              "CALIFICACIÓN                       4178\n",
              "PORCENTAJE FALLAS                     0\n",
              "PERDIDA FALLAS                        0\n",
              "ASIGNATURA ANULADA                    0\n",
              "PROMEDIO SEMESTRAL                 5681\n",
              "PROMEDIO ACUMULADO                 5681\n",
              "dtype: int64"
            ]
          },
          "metadata": {},
          "execution_count": 36
        }
      ]
    },
    {
      "cell_type": "code",
      "source": [
        "print(notas_t.info())"
      ],
      "metadata": {
        "colab": {
          "base_uri": "https://localhost:8080/"
        },
        "id": "lA5o5w7V3oET",
        "outputId": "652331a6-e1d5-4022-c1e8-e478e2bff1c2"
      },
      "execution_count": null,
      "outputs": [
        {
          "output_type": "stream",
          "name": "stdout",
          "text": [
            "<class 'pandas.core.frame.DataFrame'>\n",
            "RangeIndex: 48770 entries, 0 to 48769\n",
            "Data columns (total 42 columns):\n",
            " #   Column                          Non-Null Count  Dtype  \n",
            "---  ------                          --------------  -----  \n",
            " 0   PLAN 4064                       48770 non-null  object \n",
            " 1   PERIODO                         48770 non-null  object \n",
            " 2   CARRERA                         48770 non-null  object \n",
            " 3   DEPARTAMENTO_DEDICACION         48770 non-null  object \n",
            " 4   CÓDIGO                          48770 non-null  int64  \n",
            " 5   ASIGNATURA                      48770 non-null  object \n",
            " 6   CRÉDITOS TEÓRICOS               48770 non-null  int64  \n",
            " 7   PREREQUISITO1_COD               15271 non-null  float64\n",
            " 8   PREREQUISITO1_ASIGNATURA        15271 non-null  object \n",
            " 9   NOTA DEFINITIVA PREREQUISITO 1  13279 non-null  float64\n",
            " 10  PREREQUISITO2_COD               4110 non-null   float64\n",
            " 11  PREREQUISITO2_ASIGNATURA        4110 non-null   object \n",
            " 12  NOTA DEFINITIVA PREREQUISITO 2  3752 non-null   float64\n",
            " 13  GRUPO                           44576 non-null  object \n",
            " 14  DESCRIPCIÓN                     48770 non-null  object \n",
            " 15  DEPARTAMENTO PROFESOR           48749 non-null  object \n",
            " 16  DOCUMENTO DOCENTE               48770 non-null  int64  \n",
            " 17  PRIMER APELLIDO DOCENTE         48770 non-null  object \n",
            " 18  SEGUNDO APELLIDO DOCENTE        46635 non-null  object \n",
            " 19  NOMBRE DOCENTE                  48770 non-null  object \n",
            " 20  DOCUMENTO ESTUDIANTE            48770 non-null  int64  \n",
            " 21  PRIMER APELLIDO                 48770 non-null  object \n",
            " 22  SEGUNDO APELLIDO                48640 non-null  object \n",
            " 23  NOMBRE                          48770 non-null  object \n",
            " 24  GÉNERO                          48770 non-null  object \n",
            " 25  NIVEL                           48770 non-null  int64  \n",
            " 26  TIPO INGRESO                    48770 non-null  object \n",
            " 27  SUBACCESO                       48770 non-null  object \n",
            " 28  NOTAS PRIMER CORTE              41159 non-null  float64\n",
            " 29  FALLAS PRIMER CORTE             6823 non-null   float64\n",
            " 30  NOTAS SEGUNDO CORTE             40751 non-null  float64\n",
            " 31  FALLAS SEGUNDO CORTE            6496 non-null   float64\n",
            " 32  PROMEDIO PARCIAL                48770 non-null  float64\n",
            " 33  NOTAS EXAMEN                    37461 non-null  float64\n",
            " 34  FALLAS EXAMEN                   5094 non-null   float64\n",
            " 35  DEFINITIVA                      42305 non-null  float64\n",
            " 36  CALIFICACIÓN                    44592 non-null  object \n",
            " 37  PORCENTAJE FALLAS               48770 non-null  int64  \n",
            " 38  PERDIDA FALLAS                  48770 non-null  float64\n",
            " 39  ASIGNATURA ANULADA              48770 non-null  object \n",
            " 40  PROMEDIO SEMESTRAL              43089 non-null  float64\n",
            " 41  PROMEDIO ACUMULADO              43089 non-null  float64\n",
            "dtypes: float64(15), int64(6), object(21)\n",
            "memory usage: 15.6+ MB\n",
            "None\n"
          ]
        }
      ]
    },
    {
      "cell_type": "code",
      "source": [
        "print(notas_t.isnull().sum())"
      ],
      "metadata": {
        "colab": {
          "base_uri": "https://localhost:8080/"
        },
        "id": "bNtm-85B4txj",
        "outputId": "7da461ff-f0c8-4e86-ef55-e11f2f27f605"
      },
      "execution_count": null,
      "outputs": [
        {
          "output_type": "stream",
          "name": "stdout",
          "text": [
            "PLAN 4064                             0\n",
            "PERIODO                               0\n",
            "CARRERA                               0\n",
            "DEPARTAMENTO_DEDICACION               0\n",
            "CÓDIGO                                0\n",
            "ASIGNATURA                            0\n",
            "CRÉDITOS TEÓRICOS                     0\n",
            "PREREQUISITO1_COD                 33499\n",
            "PREREQUISITO1_ASIGNATURA          33499\n",
            "NOTA DEFINITIVA PREREQUISITO 1    35491\n",
            "PREREQUISITO2_COD                 44660\n",
            "PREREQUISITO2_ASIGNATURA          44660\n",
            "NOTA DEFINITIVA PREREQUISITO 2    45018\n",
            "GRUPO                              4194\n",
            "DESCRIPCIÓN                           0\n",
            "DEPARTAMENTO PROFESOR                21\n",
            "DOCUMENTO DOCENTE                     0\n",
            "PRIMER APELLIDO DOCENTE               0\n",
            "SEGUNDO APELLIDO DOCENTE           2135\n",
            "NOMBRE DOCENTE                        0\n",
            "DOCUMENTO ESTUDIANTE                  0\n",
            "PRIMER APELLIDO                       0\n",
            "SEGUNDO APELLIDO                    130\n",
            "NOMBRE                                0\n",
            "GÉNERO                                0\n",
            "NIVEL                                 0\n",
            "TIPO INGRESO                          0\n",
            "SUBACCESO                             0\n",
            "NOTAS PRIMER CORTE                 7611\n",
            "FALLAS PRIMER CORTE               41947\n",
            "NOTAS SEGUNDO CORTE                8019\n",
            "FALLAS SEGUNDO CORTE              42274\n",
            "PROMEDIO PARCIAL                      0\n",
            "NOTAS EXAMEN                      11309\n",
            "FALLAS EXAMEN                     43676\n",
            "DEFINITIVA                         6465\n",
            "CALIFICACIÓN                       4178\n",
            "PORCENTAJE FALLAS                     0\n",
            "PERDIDA FALLAS                        0\n",
            "ASIGNATURA ANULADA                    0\n",
            "PROMEDIO SEMESTRAL                 5681\n",
            "PROMEDIO ACUMULADO                 5681\n",
            "dtype: int64\n"
          ]
        }
      ]
    },
    {
      "cell_type": "code",
      "source": [
        "total_datos_faltantes = notas_t.isnull().sum().sum()\n",
        "print(total_datos_faltantes)\n"
      ],
      "metadata": {
        "colab": {
          "base_uri": "https://localhost:8080/"
        },
        "id": "ouFpzHoQHN1d",
        "outputId": "1b421c24-1669-4288-a8b8-c5e1e9be51ee"
      },
      "execution_count": null,
      "outputs": [
        {
          "output_type": "stream",
          "name": "stdout",
          "text": [
            "420148\n"
          ]
        }
      ]
    },
    {
      "cell_type": "code",
      "source": [
        "print(notas_t['DEFINITIVA'].describe())"
      ],
      "metadata": {
        "colab": {
          "base_uri": "https://localhost:8080/"
        },
        "id": "htdSN3Dt-ZWh",
        "outputId": "bd4afc73-1f2e-41e3-d917-b3c9088e0fbe"
      },
      "execution_count": null,
      "outputs": [
        {
          "output_type": "stream",
          "name": "stdout",
          "text": [
            "count    42305.000000\n",
            "mean         3.516779\n",
            "std          0.942625\n",
            "min          0.000000\n",
            "25%          3.130000\n",
            "50%          3.650000\n",
            "75%          4.150000\n",
            "max          5.000000\n",
            "Name: DEFINITIVA, dtype: float64\n"
          ]
        }
      ]
    },
    {
      "cell_type": "code",
      "source": [
        "import matplotlib.pyplot as plt\n",
        "\n",
        "# Filtrar por período igual a '2023-2'\n",
        "data_filtrado = notas_t[notas_t['PERIODO'] == '2024-01']\n",
        "\n",
        "# Contar el número de registros por género\n",
        "conteo_por_genero = data_filtrado['GÉNERO'].value_counts()\n",
        "\n",
        "# Crear un gráfico de barras\n",
        "bars = plt.bar(conteo_por_genero.index, conteo_por_genero.values, color=['skyblue', 'pink'])\n",
        "\n",
        "# Agregar etiquetas y título\n",
        "plt.xlabel('Género')\n",
        "plt.ylabel('Cantidad')\n",
        "plt.title('Recuento  por Género en el Período 2023-02')\n",
        "\n",
        "# Agregar el total en cada barra\n",
        "for bar, count in zip(bars, conteo_por_genero.values):\n",
        "    plt.text(bar.get_x() + bar.get_width() / 2, count, str(count), ha='center', va='bottom')\n",
        "\n",
        "# Mostrar el gráfico\n",
        "plt.show()\n"
      ],
      "metadata": {
        "colab": {
          "base_uri": "https://localhost:8080/",
          "height": 472
        },
        "id": "I8UJvY6aDucQ",
        "outputId": "8c885132-58a7-44ee-ee1d-55838eef2ae5"
      },
      "execution_count": null,
      "outputs": [
        {
          "output_type": "display_data",
          "data": {
            "text/plain": [
              "<Figure size 640x480 with 1 Axes>"
            ],
            "image/png": "[encoded data removed]"
          },
          "metadata": {}
        }
      ]
    },
    {
      "cell_type": "code",
      "source": [
        "import plotly.express as px\n",
        "\n",
        "# Filtrar por período igual a '2024-01'\n",
        "data_filtrado = notas_t[notas_t['PERIODO'] == '2024-01']\n",
        "\n",
        "# Contar el número de registros por género\n",
        "conteo_por_genero = data_filtrado['GÉNERO'].value_counts()\n",
        "\n",
        "# Definir una paleta de colores pastel\n",
        "colores_pastel = ['#ADD8E6', '#FFB6C1', '#90EE90', '#FFDAB9', '#87CEFA', '#B0C4DE', '#FFFFE0']\n",
        "\n",
        "# Crear un gráfico de barras interactivo con Plotly\n",
        "fig = px.bar(x=conteo_por_genero.index, y=conteo_por_genero.values,\n",
        "             color=conteo_por_genero.index,\n",
        "             labels={'x':'Género', 'y':'Cantidad'},\n",
        "             title='Conteo por Género en el Período 2024-01',\n",
        "             text=conteo_por_genero.values,\n",
        "             color_discrete_sequence=colores_pastel)  # Aplicar la paleta de colores pastel\n",
        "\n",
        "# Actualizar el diseño del gráfico\n",
        "fig.update_traces(textposition='outside')\n",
        "fig.update_layout(width=600, height=470)  # Ajustar tamaño del gráfico\n",
        "\n",
        "# Mostrar el gráfico\n",
        "fig.show()\n",
        "\n"
      ],
      "metadata": {
        "colab": {
          "base_uri": "https://localhost:8080/",
          "height": 487
        },
        "id": "jXFpNmf4DbTw",
        "outputId": "25831717-4787-478b-ffd9-f56d653f734b"
      },
      "execution_count": null,
      "outputs": [
        {
          "output_type": "display_data",
          "data": {
            "text/html": [
              "<html>\n",
              "<head><meta charset=\"utf-8\" /></head>\n",
              "<body>\n",
              "    <div>            <script src=\"https://cdnjs.cloudflare.com/ajax/libs/mathjax/2.7.5/MathJax.js?config=TeX-AMS-MML_SVG\"></script><script type=\"text/javascript\">if (window.MathJax && window.MathJax.Hub && window.MathJax.Hub.Config) {window.MathJax.Hub.Config({SVG: {font: \"STIX-Web\"}});}</script>                <script type=\"text/javascript\">window.PlotlyConfig = {MathJaxConfig: 'local'};</script>\n",
              "        <script charset=\"utf-8\" src=\"https://cdn.plot.ly/plotly-2.24.1.min.js\"></script>                <div id=\"ea469725-7f58-42dd-8e7c-1bbcd2bfeffe\" class=\"plotly-graph-div\" style=\"height:470px; width:600px;\"></div>            <script type=\"text/javascript\">                                    window.PLOTLYENV=window.PLOTLYENV || {};                                    if (document.getElementById(\"ea469725-7f58-42dd-8e7c-1bbcd2bfeffe\")) {                    Plotly.newPlot(                        \"ea469725-7f58-42dd-8e7c-1bbcd2bfeffe\",                        [{\"alignmentgroup\":\"True\",\"hovertemplate\":\"color=Masculino\\u003cbr\\u003eG\\u00e9nero=%{x}\\u003cbr\\u003eCantidad=%{y}\\u003cbr\\u003etext=%{text}\\u003cextra\\u003e\\u003c\\u002fextra\\u003e\",\"legendgroup\":\"Masculino\",\"marker\":{\"color\":\"#ADD8E6\",\"pattern\":{\"shape\":\"\"}},\"name\":\"Masculino\",\"offsetgroup\":\"Masculino\",\"orientation\":\"v\",\"showlegend\":true,\"text\":[3360.0],\"textposition\":\"outside\",\"x\":[\"Masculino\"],\"xaxis\":\"x\",\"y\":[3360],\"yaxis\":\"y\",\"type\":\"bar\"},{\"alignmentgroup\":\"True\",\"hovertemplate\":\"color=Femenino\\u003cbr\\u003eG\\u00e9nero=%{x}\\u003cbr\\u003eCantidad=%{y}\\u003cbr\\u003etext=%{text}\\u003cextra\\u003e\\u003c\\u002fextra\\u003e\",\"legendgroup\":\"Femenino\",\"marker\":{\"color\":\"#FFB6C1\",\"pattern\":{\"shape\":\"\"}},\"name\":\"Femenino\",\"offsetgroup\":\"Femenino\",\"orientation\":\"v\",\"showlegend\":true,\"text\":[835.0],\"textposition\":\"outside\",\"x\":[\"Femenino\"],\"xaxis\":\"x\",\"y\":[835],\"yaxis\":\"y\",\"type\":\"bar\"}],                        {\"template\":{\"data\":{\"histogram2dcontour\":[{\"type\":\"histogram2dcontour\",\"colorbar\":{\"outlinewidth\":0,\"ticks\":\"\"},\"colorscale\":[[0.0,\"#0d0887\"],[0.1111111111111111,\"#46039f\"],[0.2222222222222222,\"#7201a8\"],[0.3333333333333333,\"#9c179e\"],[0.4444444444444444,\"#bd3786\"],[0.5555555555555556,\"#d8576b\"],[0.6666666666666666,\"#ed7953\"],[0.7777777777777778,\"#fb9f3a\"],[0.8888888888888888,\"#fdca26\"],[1.0,\"#f0f921\"]]}],\"choropleth\":[{\"type\":\"choropleth\",\"colorbar\":{\"outlinewidth\":0,\"ticks\":\"\"}}],\"histogram2d\":[{\"type\":\"histogram2d\",\"colorbar\":{\"outlinewidth\":0,\"ticks\":\"\"},\"colorscale\":[[0.0,\"#0d0887\"],[0.1111111111111111,\"#46039f\"],[0.2222222222222222,\"#7201a8\"],[0.3333333333333333,\"#9c179e\"],[0.4444444444444444,\"#bd3786\"],[0.5555555555555556,\"#d8576b\"],[0.6666666666666666,\"#ed7953\"],[0.7777777777777778,\"#fb9f3a\"],[0.8888888888888888,\"#fdca26\"],[1.0,\"#f0f921\"]]}],\"heatmap\":[{\"type\":\"heatmap\",\"colorbar\":{\"outlinewidth\":0,\"ticks\":\"\"},\"colorscale\":[[0.0,\"#0d0887\"],[0.1111111111111111,\"#46039f\"],[0.2222222222222222,\"#7201a8\"],[0.3333333333333333,\"#9c179e\"],[0.4444444444444444,\"#bd3786\"],[0.5555555555555556,\"#d8576b\"],[0.6666666666666666,\"#ed7953\"],[0.7777777777777778,\"#fb9f3a\"],[0.8888888888888888,\"#fdca26\"],[1.0,\"#f0f921\"]]}],\"heatmapgl\":[{\"type\":\"heatmapgl\",\"colorbar\":{\"outlinewidth\":0,\"ticks\":\"\"},\"colorscale\":[[0.0,\"#0d0887\"],[0.1111111111111111,\"#46039f\"],[0.2222222222222222,\"#7201a8\"],[0.3333333333333333,\"#9c179e\"],[0.4444444444444444,\"#bd3786\"],[0.5555555555555556,\"#d8576b\"],[0.6666666666666666,\"#ed7953\"],[0.7777777777777778,\"#fb9f3a\"],[0.8888888888888888,\"#fdca26\"],[1.0,\"#f0f921\"]]}],\"contourcarpet\":[{\"type\":\"contourcarpet\",\"colorbar\":{\"outlinewidth\":0,\"ticks\":\"\"}}],\"contour\":[{\"type\":\"contour\",\"colorbar\":{\"outlinewidth\":0,\"ticks\":\"\"},\"colorscale\":[[0.0,\"#0d0887\"],[0.1111111111111111,\"#46039f\"],[0.2222222222222222,\"#7201a8\"],[0.3333333333333333,\"#9c179e\"],[0.4444444444444444,\"#bd3786\"],[0.5555555555555556,\"#d8576b\"],[0.6666666666666666,\"#ed7953\"],[0.7777777777777778,\"#fb9f3a\"],[0.8888888888888888,\"#fdca26\"],[1.0,\"#f0f921\"]]}],\"surface\":[{\"type\":\"surface\",\"colorbar\":{\"outlinewidth\":0,\"ticks\":\"\"},\"colorscale\":[[0.0,\"#0d0887\"],[0.1111111111111111,\"#46039f\"],[0.2222222222222222,\"#7201a8\"],[0.3333333333333333,\"#9c179e\"],[0.4444444444444444,\"#bd3786\"],[0.5555555555555556,\"#d8576b\"],[0.6666666666666666,\"#ed7953\"],[0.7777777777777778,\"#fb9f3a\"],[0.8888888888888888,\"#fdca26\"],[1.0,\"#f0f921\"]]}],\"mesh3d\":[{\"type\":\"mesh3d\",\"colorbar\":{\"outlinewidth\":0,\"ticks\":\"\"}}],\"scatter\":[{\"fillpattern\":{\"fillmode\":\"overlay\",\"size\":10,\"solidity\":0.2},\"type\":\"scatter\"}],\"parcoords\":[{\"type\":\"parcoords\",\"line\":{\"colorbar\":{\"outlinewidth\":0,\"ticks\":\"\"}}}],\"scatterpolargl\":[{\"type\":\"scatterpolargl\",\"marker\":{\"colorbar\":{\"outlinewidth\":0,\"ticks\":\"\"}}}],\"bar\":[{\"error_x\":{\"color\":\"#2a3f5f\"},\"error_y\":{\"color\":\"#2a3f5f\"},\"marker\":{\"line\":{\"color\":\"#E5ECF6\",\"width\":0.5},\"pattern\":{\"fillmode\":\"overlay\",\"size\":10,\"solidity\":0.2}},\"type\":\"bar\"}],\"scattergeo\":[{\"type\":\"scattergeo\",\"marker\":{\"colorbar\":{\"outlinewidth\":0,\"ticks\":\"\"}}}],\"scatterpolar\":[{\"type\":\"scatterpolar\",\"marker\":{\"colorbar\":{\"outlinewidth\":0,\"ticks\":\"\"}}}],\"histogram\":[{\"marker\":{\"pattern\":{\"fillmode\":\"overlay\",\"size\":10,\"solidity\":0.2}},\"type\":\"histogram\"}],\"scattergl\":[{\"type\":\"scattergl\",\"marker\":{\"colorbar\":{\"outlinewidth\":0,\"ticks\":\"\"}}}],\"scatter3d\":[{\"type\":\"scatter3d\",\"line\":{\"colorbar\":{\"outlinewidth\":0,\"ticks\":\"\"}},\"marker\":{\"colorbar\":{\"outlinewidth\":0,\"ticks\":\"\"}}}],\"scattermapbox\":[{\"type\":\"scattermapbox\",\"marker\":{\"colorbar\":{\"outlinewidth\":0,\"ticks\":\"\"}}}],\"scatterternary\":[{\"type\":\"scatterternary\",\"marker\":{\"colorbar\":{\"outlinewidth\":0,\"ticks\":\"\"}}}],\"scattercarpet\":[{\"type\":\"scattercarpet\",\"marker\":{\"colorbar\":{\"outlinewidth\":0,\"ticks\":\"\"}}}],\"carpet\":[{\"aaxis\":{\"endlinecolor\":\"#2a3f5f\",\"gridcolor\":\"white\",\"linecolor\":\"white\",\"minorgridcolor\":\"white\",\"startlinecolor\":\"#2a3f5f\"},\"baxis\":{\"endlinecolor\":\"#2a3f5f\",\"gridcolor\":\"white\",\"linecolor\":\"white\",\"minorgridcolor\":\"white\",\"startlinecolor\":\"#2a3f5f\"},\"type\":\"carpet\"}],\"table\":[{\"cells\":{\"fill\":{\"color\":\"#EBF0F8\"},\"line\":{\"color\":\"white\"}},\"header\":{\"fill\":{\"color\":\"#C8D4E3\"},\"line\":{\"color\":\"white\"}},\"type\":\"table\"}],\"barpolar\":[{\"marker\":{\"line\":{\"color\":\"#E5ECF6\",\"width\":0.5},\"pattern\":{\"fillmode\":\"overlay\",\"size\":10,\"solidity\":0.2}},\"type\":\"barpolar\"}],\"pie\":[{\"automargin\":true,\"type\":\"pie\"}]},\"layout\":{\"autotypenumbers\":\"strict\",\"colorway\":[\"#636efa\",\"#EF553B\",\"#00cc96\",\"#ab63fa\",\"#FFA15A\",\"#19d3f3\",\"#FF6692\",\"#B6E880\",\"#FF97FF\",\"#FECB52\"],\"font\":{\"color\":\"#2a3f5f\"},\"hovermode\":\"closest\",\"hoverlabel\":{\"align\":\"left\"},\"paper_bgcolor\":\"white\",\"plot_bgcolor\":\"#E5ECF6\",\"polar\":{\"bgcolor\":\"#E5ECF6\",\"angularaxis\":{\"gridcolor\":\"white\",\"linecolor\":\"white\",\"ticks\":\"\"},\"radialaxis\":{\"gridcolor\":\"white\",\"linecolor\":\"white\",\"ticks\":\"\"}},\"ternary\":{\"bgcolor\":\"#E5ECF6\",\"aaxis\":{\"gridcolor\":\"white\",\"linecolor\":\"white\",\"ticks\":\"\"},\"baxis\":{\"gridcolor\":\"white\",\"linecolor\":\"white\",\"ticks\":\"\"},\"caxis\":{\"gridcolor\":\"white\",\"linecolor\":\"white\",\"ticks\":\"\"}},\"coloraxis\":{\"colorbar\":{\"outlinewidth\":0,\"ticks\":\"\"}},\"colorscale\":{\"sequential\":[[0.0,\"#0d0887\"],[0.1111111111111111,\"#46039f\"],[0.2222222222222222,\"#7201a8\"],[0.3333333333333333,\"#9c179e\"],[0.4444444444444444,\"#bd3786\"],[0.5555555555555556,\"#d8576b\"],[0.6666666666666666,\"#ed7953\"],[0.7777777777777778,\"#fb9f3a\"],[0.8888888888888888,\"#fdca26\"],[1.0,\"#f0f921\"]],\"sequentialminus\":[[0.0,\"#0d0887\"],[0.1111111111111111,\"#46039f\"],[0.2222222222222222,\"#7201a8\"],[0.3333333333333333,\"#9c179e\"],[0.4444444444444444,\"#bd3786\"],[0.5555555555555556,\"#d8576b\"],[0.6666666666666666,\"#ed7953\"],[0.7777777777777778,\"#fb9f3a\"],[0.8888888888888888,\"#fdca26\"],[1.0,\"#f0f921\"]],\"diverging\":[[0,\"#8e0152\"],[0.1,\"#c51b7d\"],[0.2,\"#de77ae\"],[0.3,\"#f1b6da\"],[0.4,\"#fde0ef\"],[0.5,\"#f7f7f7\"],[0.6,\"#e6f5d0\"],[0.7,\"#b8e186\"],[0.8,\"#7fbc41\"],[0.9,\"#4d9221\"],[1,\"#276419\"]]},\"xaxis\":{\"gridcolor\":\"white\",\"linecolor\":\"white\",\"ticks\":\"\",\"title\":{\"standoff\":15},\"zerolinecolor\":\"white\",\"automargin\":true,\"zerolinewidth\":2},\"yaxis\":{\"gridcolor\":\"white\",\"linecolor\":\"white\",\"ticks\":\"\",\"title\":{\"standoff\":15},\"zerolinecolor\":\"white\",\"automargin\":true,\"zerolinewidth\":2},\"scene\":{\"xaxis\":{\"backgroundcolor\":\"#E5ECF6\",\"gridcolor\":\"white\",\"linecolor\":\"white\",\"showbackground\":true,\"ticks\":\"\",\"zerolinecolor\":\"white\",\"gridwidth\":2},\"yaxis\":{\"backgroundcolor\":\"#E5ECF6\",\"gridcolor\":\"white\",\"linecolor\":\"white\",\"showbackground\":true,\"ticks\":\"\",\"zerolinecolor\":\"white\",\"gridwidth\":2},\"zaxis\":{\"backgroundcolor\":\"#E5ECF6\",\"gridcolor\":\"white\",\"linecolor\":\"white\",\"showbackground\":true,\"ticks\":\"\",\"zerolinecolor\":\"white\",\"gridwidth\":2}},\"shapedefaults\":{\"line\":{\"color\":\"#2a3f5f\"}},\"annotationdefaults\":{\"arrowcolor\":\"#2a3f5f\",\"arrowhead\":0,\"arrowwidth\":1},\"geo\":{\"bgcolor\":\"white\",\"landcolor\":\"#E5ECF6\",\"subunitcolor\":\"white\",\"showland\":true,\"showlakes\":true,\"lakecolor\":\"white\"},\"title\":{\"x\":0.05},\"mapbox\":{\"style\":\"light\"}}},\"xaxis\":{\"anchor\":\"y\",\"domain\":[0.0,1.0],\"title\":{\"text\":\"G\\u00e9nero\"}},\"yaxis\":{\"anchor\":\"x\",\"domain\":[0.0,1.0],\"title\":{\"text\":\"Cantidad\"}},\"legend\":{\"title\":{\"text\":\"color\"},\"tracegroupgap\":0},\"title\":{\"text\":\"Conteo por G\\u00e9nero en el Per\\u00edodo 2024-01\"},\"barmode\":\"relative\",\"width\":600,\"height\":470},                        {\"responsive\": true}                    ).then(function(){\n",
              "                            \n",
              "var gd = document.getElementById('ea469725-7f58-42dd-8e7c-1bbcd2bfeffe');\n",
              "var x = new MutationObserver(function (mutations, observer) {{\n",
              "        var display = window.getComputedStyle(gd).display;\n",
              "        if (!display || display === 'none') {{\n",
              "            console.log([gd, 'removed!']);\n",
              "            Plotly.purge(gd);\n",
              "            observer.disconnect();\n",
              "        }}\n",
              "}});\n",
              "\n",
              "// Listen for the removal of the full notebook cells\n",
              "var notebookContainer = gd.closest('#notebook-container');\n",
              "if (notebookContainer) {{\n",
              "    x.observe(notebookContainer, {childList: true});\n",
              "}}\n",
              "\n",
              "// Listen for the clearing of the current output cell\n",
              "var outputEl = gd.closest('.output');\n",
              "if (outputEl) {{\n",
              "    x.observe(outputEl, {childList: true});\n",
              "}}\n",
              "\n",
              "                        })                };                            </script>        </div>\n",
              "</body>\n",
              "</html>"
            ]
          },
          "metadata": {}
        }
      ]
    },
    {
      "cell_type": "code",
      "source": [
        "import pandas as pd\n",
        "import plotly.express as px\n",
        "\n",
        "# Suponiendo que 'df' es tu DataFrame y ya contiene los datos\n",
        "\n",
        "# Filtrar por el período específico\n",
        "data_filtrada = notas_t[notas_t['PERIODO'] == '2023-02']\n",
        "\n",
        "# Contar el número de registros por género y calificación\n",
        "conteo = data_filtrada.groupby(['GÉNERO', 'CALIFICACIÓN']).size().reset_index(name='Cantidad')\n",
        "\n",
        "# Crear el gráfico de barras interactivo con Plotly\n",
        "fig = px.bar(conteo, x='GÉNERO', y='Cantidad', color='CALIFICACIÓN',\n",
        "             barmode='group',\n",
        "             title='Cantidad de Estudiantes por Género y Calificación en el Período 2023-02',\n",
        "             labels={'GÉNERO': 'Género', 'Cantidad': 'Cantidad', 'CALIFICACIÓN': 'Calificación'})\n",
        "\n",
        "# Actualizar el diseño del gráfico\n",
        "fig.update_layout(xaxis_title='Género',\n",
        "                  yaxis_title='Número de Estudiantes',\n",
        "                  legend_title='Calificación')\n",
        "\n",
        "# Mostrar el gráfico\n",
        "fig.show()\n"
      ],
      "metadata": {
        "colab": {
          "base_uri": "https://localhost:8080/",
          "height": 542
        },
        "id": "WC4QK2dGcKOj",
        "outputId": "24b2eb5f-82b7-4312-d5f1-9b030ea91dfc"
      },
      "execution_count": null,
      "outputs": [
        {
          "output_type": "display_data",
          "data": {
            "text/html": [
              "<html>\n",
              "<head><meta charset=\"utf-8\" /></head>\n",
              "<body>\n",
              "    <div>            <script src=\"https://cdnjs.cloudflare.com/ajax/libs/mathjax/2.7.5/MathJax.js?config=TeX-AMS-MML_SVG\"></script><script type=\"text/javascript\">if (window.MathJax && window.MathJax.Hub && window.MathJax.Hub.Config) {window.MathJax.Hub.Config({SVG: {font: \"STIX-Web\"}});}</script>                <script type=\"text/javascript\">window.PlotlyConfig = {MathJaxConfig: 'local'};</script>\n",
              "        <script charset=\"utf-8\" src=\"https://cdn.plot.ly/plotly-2.24.1.min.js\"></script>                <div id=\"236e4de8-e5bb-4dce-9a75-00119273e712\" class=\"plotly-graph-div\" style=\"height:525px; width:100%;\"></div>            <script type=\"text/javascript\">                                    window.PLOTLYENV=window.PLOTLYENV || {};                                    if (document.getElementById(\"236e4de8-e5bb-4dce-9a75-00119273e712\")) {                    Plotly.newPlot(                        \"236e4de8-e5bb-4dce-9a75-00119273e712\",                        [{\"alignmentgroup\":\"True\",\"hovertemplate\":\"Calificaci\\u00f3n=NS\\u003cbr\\u003eG\\u00e9nero=%{x}\\u003cbr\\u003eCantidad=%{y}\\u003cextra\\u003e\\u003c\\u002fextra\\u003e\",\"legendgroup\":\"NS\",\"marker\":{\"color\":\"#636efa\",\"pattern\":{\"shape\":\"\"}},\"name\":\"NS\",\"offsetgroup\":\"NS\",\"orientation\":\"v\",\"showlegend\":true,\"textposition\":\"auto\",\"x\":[\"Femenino\",\"Masculino\"],\"xaxis\":\"x\",\"y\":[71,370],\"yaxis\":\"y\",\"type\":\"bar\"},{\"alignmentgroup\":\"True\",\"hovertemplate\":\"Calificaci\\u00f3n=PF\\u003cbr\\u003eG\\u00e9nero=%{x}\\u003cbr\\u003eCantidad=%{y}\\u003cextra\\u003e\\u003c\\u002fextra\\u003e\",\"legendgroup\":\"PF\",\"marker\":{\"color\":\"#EF553B\",\"pattern\":{\"shape\":\"\"}},\"name\":\"PF\",\"offsetgroup\":\"PF\",\"orientation\":\"v\",\"showlegend\":true,\"textposition\":\"auto\",\"x\":[\"Femenino\",\"Masculino\"],\"xaxis\":\"x\",\"y\":[21,145],\"yaxis\":\"y\",\"type\":\"bar\"},{\"alignmentgroup\":\"True\",\"hovertemplate\":\"Calificaci\\u00f3n=SP\\u003cbr\\u003eG\\u00e9nero=%{x}\\u003cbr\\u003eCantidad=%{y}\\u003cextra\\u003e\\u003c\\u002fextra\\u003e\",\"legendgroup\":\"SP\",\"marker\":{\"color\":\"#00cc96\",\"pattern\":{\"shape\":\"\"}},\"name\":\"SP\",\"offsetgroup\":\"SP\",\"orientation\":\"v\",\"showlegend\":true,\"textposition\":\"auto\",\"x\":[\"Femenino\",\"Masculino\"],\"xaxis\":\"x\",\"y\":[677,2522],\"yaxis\":\"y\",\"type\":\"bar\"},{\"alignmentgroup\":\"True\",\"hovertemplate\":\"Calificaci\\u00f3n=IN\\u003cbr\\u003eG\\u00e9nero=%{x}\\u003cbr\\u003eCantidad=%{y}\\u003cextra\\u003e\\u003c\\u002fextra\\u003e\",\"legendgroup\":\"IN\",\"marker\":{\"color\":\"#ab63fa\",\"pattern\":{\"shape\":\"\"}},\"name\":\"IN\",\"offsetgroup\":\"IN\",\"orientation\":\"v\",\"showlegend\":true,\"textposition\":\"auto\",\"x\":[\"Masculino\"],\"xaxis\":\"x\",\"y\":[2],\"yaxis\":\"y\",\"type\":\"bar\"}],                        {\"template\":{\"data\":{\"histogram2dcontour\":[{\"type\":\"histogram2dcontour\",\"colorbar\":{\"outlinewidth\":0,\"ticks\":\"\"},\"colorscale\":[[0.0,\"#0d0887\"],[0.1111111111111111,\"#46039f\"],[0.2222222222222222,\"#7201a8\"],[0.3333333333333333,\"#9c179e\"],[0.4444444444444444,\"#bd3786\"],[0.5555555555555556,\"#d8576b\"],[0.6666666666666666,\"#ed7953\"],[0.7777777777777778,\"#fb9f3a\"],[0.8888888888888888,\"#fdca26\"],[1.0,\"#f0f921\"]]}],\"choropleth\":[{\"type\":\"choropleth\",\"colorbar\":{\"outlinewidth\":0,\"ticks\":\"\"}}],\"histogram2d\":[{\"type\":\"histogram2d\",\"colorbar\":{\"outlinewidth\":0,\"ticks\":\"\"},\"colorscale\":[[0.0,\"#0d0887\"],[0.1111111111111111,\"#46039f\"],[0.2222222222222222,\"#7201a8\"],[0.3333333333333333,\"#9c179e\"],[0.4444444444444444,\"#bd3786\"],[0.5555555555555556,\"#d8576b\"],[0.6666666666666666,\"#ed7953\"],[0.7777777777777778,\"#fb9f3a\"],[0.8888888888888888,\"#fdca26\"],[1.0,\"#f0f921\"]]}],\"heatmap\":[{\"type\":\"heatmap\",\"colorbar\":{\"outlinewidth\":0,\"ticks\":\"\"},\"colorscale\":[[0.0,\"#0d0887\"],[0.1111111111111111,\"#46039f\"],[0.2222222222222222,\"#7201a8\"],[0.3333333333333333,\"#9c179e\"],[0.4444444444444444,\"#bd3786\"],[0.5555555555555556,\"#d8576b\"],[0.6666666666666666,\"#ed7953\"],[0.7777777777777778,\"#fb9f3a\"],[0.8888888888888888,\"#fdca26\"],[1.0,\"#f0f921\"]]}],\"heatmapgl\":[{\"type\":\"heatmapgl\",\"colorbar\":{\"outlinewidth\":0,\"ticks\":\"\"},\"colorscale\":[[0.0,\"#0d0887\"],[0.1111111111111111,\"#46039f\"],[0.2222222222222222,\"#7201a8\"],[0.3333333333333333,\"#9c179e\"],[0.4444444444444444,\"#bd3786\"],[0.5555555555555556,\"#d8576b\"],[0.6666666666666666,\"#ed7953\"],[0.7777777777777778,\"#fb9f3a\"],[0.8888888888888888,\"#fdca26\"],[1.0,\"#f0f921\"]]}],\"contourcarpet\":[{\"type\":\"contourcarpet\",\"colorbar\":{\"outlinewidth\":0,\"ticks\":\"\"}}],\"contour\":[{\"type\":\"contour\",\"colorbar\":{\"outlinewidth\":0,\"ticks\":\"\"},\"colorscale\":[[0.0,\"#0d0887\"],[0.1111111111111111,\"#46039f\"],[0.2222222222222222,\"#7201a8\"],[0.3333333333333333,\"#9c179e\"],[0.4444444444444444,\"#bd3786\"],[0.5555555555555556,\"#d8576b\"],[0.6666666666666666,\"#ed7953\"],[0.7777777777777778,\"#fb9f3a\"],[0.8888888888888888,\"#fdca26\"],[1.0,\"#f0f921\"]]}],\"surface\":[{\"type\":\"surface\",\"colorbar\":{\"outlinewidth\":0,\"ticks\":\"\"},\"colorscale\":[[0.0,\"#0d0887\"],[0.1111111111111111,\"#46039f\"],[0.2222222222222222,\"#7201a8\"],[0.3333333333333333,\"#9c179e\"],[0.4444444444444444,\"#bd3786\"],[0.5555555555555556,\"#d8576b\"],[0.6666666666666666,\"#ed7953\"],[0.7777777777777778,\"#fb9f3a\"],[0.8888888888888888,\"#fdca26\"],[1.0,\"#f0f921\"]]}],\"mesh3d\":[{\"type\":\"mesh3d\",\"colorbar\":{\"outlinewidth\":0,\"ticks\":\"\"}}],\"scatter\":[{\"fillpattern\":{\"fillmode\":\"overlay\",\"size\":10,\"solidity\":0.2},\"type\":\"scatter\"}],\"parcoords\":[{\"type\":\"parcoords\",\"line\":{\"colorbar\":{\"outlinewidth\":0,\"ticks\":\"\"}}}],\"scatterpolargl\":[{\"type\":\"scatterpolargl\",\"marker\":{\"colorbar\":{\"outlinewidth\":0,\"ticks\":\"\"}}}],\"bar\":[{\"error_x\":{\"color\":\"#2a3f5f\"},\"error_y\":{\"color\":\"#2a3f5f\"},\"marker\":{\"line\":{\"color\":\"#E5ECF6\",\"width\":0.5},\"pattern\":{\"fillmode\":\"overlay\",\"size\":10,\"solidity\":0.2}},\"type\":\"bar\"}],\"scattergeo\":[{\"type\":\"scattergeo\",\"marker\":{\"colorbar\":{\"outlinewidth\":0,\"ticks\":\"\"}}}],\"scatterpolar\":[{\"type\":\"scatterpolar\",\"marker\":{\"colorbar\":{\"outlinewidth\":0,\"ticks\":\"\"}}}],\"histogram\":[{\"marker\":{\"pattern\":{\"fillmode\":\"overlay\",\"size\":10,\"solidity\":0.2}},\"type\":\"histogram\"}],\"scattergl\":[{\"type\":\"scattergl\",\"marker\":{\"colorbar\":{\"outlinewidth\":0,\"ticks\":\"\"}}}],\"scatter3d\":[{\"type\":\"scatter3d\",\"line\":{\"colorbar\":{\"outlinewidth\":0,\"ticks\":\"\"}},\"marker\":{\"colorbar\":{\"outlinewidth\":0,\"ticks\":\"\"}}}],\"scattermapbox\":[{\"type\":\"scattermapbox\",\"marker\":{\"colorbar\":{\"outlinewidth\":0,\"ticks\":\"\"}}}],\"scatterternary\":[{\"type\":\"scatterternary\",\"marker\":{\"colorbar\":{\"outlinewidth\":0,\"ticks\":\"\"}}}],\"scattercarpet\":[{\"type\":\"scattercarpet\",\"marker\":{\"colorbar\":{\"outlinewidth\":0,\"ticks\":\"\"}}}],\"carpet\":[{\"aaxis\":{\"endlinecolor\":\"#2a3f5f\",\"gridcolor\":\"white\",\"linecolor\":\"white\",\"minorgridcolor\":\"white\",\"startlinecolor\":\"#2a3f5f\"},\"baxis\":{\"endlinecolor\":\"#2a3f5f\",\"gridcolor\":\"white\",\"linecolor\":\"white\",\"minorgridcolor\":\"white\",\"startlinecolor\":\"#2a3f5f\"},\"type\":\"carpet\"}],\"table\":[{\"cells\":{\"fill\":{\"color\":\"#EBF0F8\"},\"line\":{\"color\":\"white\"}},\"header\":{\"fill\":{\"color\":\"#C8D4E3\"},\"line\":{\"color\":\"white\"}},\"type\":\"table\"}],\"barpolar\":[{\"marker\":{\"line\":{\"color\":\"#E5ECF6\",\"width\":0.5},\"pattern\":{\"fillmode\":\"overlay\",\"size\":10,\"solidity\":0.2}},\"type\":\"barpolar\"}],\"pie\":[{\"automargin\":true,\"type\":\"pie\"}]},\"layout\":{\"autotypenumbers\":\"strict\",\"colorway\":[\"#636efa\",\"#EF553B\",\"#00cc96\",\"#ab63fa\",\"#FFA15A\",\"#19d3f3\",\"#FF6692\",\"#B6E880\",\"#FF97FF\",\"#FECB52\"],\"font\":{\"color\":\"#2a3f5f\"},\"hovermode\":\"closest\",\"hoverlabel\":{\"align\":\"left\"},\"paper_bgcolor\":\"white\",\"plot_bgcolor\":\"#E5ECF6\",\"polar\":{\"bgcolor\":\"#E5ECF6\",\"angularaxis\":{\"gridcolor\":\"white\",\"linecolor\":\"white\",\"ticks\":\"\"},\"radialaxis\":{\"gridcolor\":\"white\",\"linecolor\":\"white\",\"ticks\":\"\"}},\"ternary\":{\"bgcolor\":\"#E5ECF6\",\"aaxis\":{\"gridcolor\":\"white\",\"linecolor\":\"white\",\"ticks\":\"\"},\"baxis\":{\"gridcolor\":\"white\",\"linecolor\":\"white\",\"ticks\":\"\"},\"caxis\":{\"gridcolor\":\"white\",\"linecolor\":\"white\",\"ticks\":\"\"}},\"coloraxis\":{\"colorbar\":{\"outlinewidth\":0,\"ticks\":\"\"}},\"colorscale\":{\"sequential\":[[0.0,\"#0d0887\"],[0.1111111111111111,\"#46039f\"],[0.2222222222222222,\"#7201a8\"],[0.3333333333333333,\"#9c179e\"],[0.4444444444444444,\"#bd3786\"],[0.5555555555555556,\"#d8576b\"],[0.6666666666666666,\"#ed7953\"],[0.7777777777777778,\"#fb9f3a\"],[0.8888888888888888,\"#fdca26\"],[1.0,\"#f0f921\"]],\"sequentialminus\":[[0.0,\"#0d0887\"],[0.1111111111111111,\"#46039f\"],[0.2222222222222222,\"#7201a8\"],[0.3333333333333333,\"#9c179e\"],[0.4444444444444444,\"#bd3786\"],[0.5555555555555556,\"#d8576b\"],[0.6666666666666666,\"#ed7953\"],[0.7777777777777778,\"#fb9f3a\"],[0.8888888888888888,\"#fdca26\"],[1.0,\"#f0f921\"]],\"diverging\":[[0,\"#8e0152\"],[0.1,\"#c51b7d\"],[0.2,\"#de77ae\"],[0.3,\"#f1b6da\"],[0.4,\"#fde0ef\"],[0.5,\"#f7f7f7\"],[0.6,\"#e6f5d0\"],[0.7,\"#b8e186\"],[0.8,\"#7fbc41\"],[0.9,\"#4d9221\"],[1,\"#276419\"]]},\"xaxis\":{\"gridcolor\":\"white\",\"linecolor\":\"white\",\"ticks\":\"\",\"title\":{\"standoff\":15},\"zerolinecolor\":\"white\",\"automargin\":true,\"zerolinewidth\":2},\"yaxis\":{\"gridcolor\":\"white\",\"linecolor\":\"white\",\"ticks\":\"\",\"title\":{\"standoff\":15},\"zerolinecolor\":\"white\",\"automargin\":true,\"zerolinewidth\":2},\"scene\":{\"xaxis\":{\"backgroundcolor\":\"#E5ECF6\",\"gridcolor\":\"white\",\"linecolor\":\"white\",\"showbackground\":true,\"ticks\":\"\",\"zerolinecolor\":\"white\",\"gridwidth\":2},\"yaxis\":{\"backgroundcolor\":\"#E5ECF6\",\"gridcolor\":\"white\",\"linecolor\":\"white\",\"showbackground\":true,\"ticks\":\"\",\"zerolinecolor\":\"white\",\"gridwidth\":2},\"zaxis\":{\"backgroundcolor\":\"#E5ECF6\",\"gridcolor\":\"white\",\"linecolor\":\"white\",\"showbackground\":true,\"ticks\":\"\",\"zerolinecolor\":\"white\",\"gridwidth\":2}},\"shapedefaults\":{\"line\":{\"color\":\"#2a3f5f\"}},\"annotationdefaults\":{\"arrowcolor\":\"#2a3f5f\",\"arrowhead\":0,\"arrowwidth\":1},\"geo\":{\"bgcolor\":\"white\",\"landcolor\":\"#E5ECF6\",\"subunitcolor\":\"white\",\"showland\":true,\"showlakes\":true,\"lakecolor\":\"white\"},\"title\":{\"x\":0.05},\"mapbox\":{\"style\":\"light\"}}},\"xaxis\":{\"anchor\":\"y\",\"domain\":[0.0,1.0],\"title\":{\"text\":\"G\\u00e9nero\"}},\"yaxis\":{\"anchor\":\"x\",\"domain\":[0.0,1.0],\"title\":{\"text\":\"N\\u00famero de Estudiantes\"}},\"legend\":{\"title\":{\"text\":\"Calificaci\\u00f3n\"},\"tracegroupgap\":0},\"title\":{\"text\":\"Cantidad de Estudiantes por G\\u00e9nero y Calificaci\\u00f3n en el Per\\u00edodo 2023-02\"},\"barmode\":\"group\"},                        {\"responsive\": true}                    ).then(function(){\n",
              "                            \n",
              "var gd = document.getElementById('236e4de8-e5bb-4dce-9a75-00119273e712');\n",
              "var x = new MutationObserver(function (mutations, observer) {{\n",
              "        var display = window.getComputedStyle(gd).display;\n",
              "        if (!display || display === 'none') {{\n",
              "            console.log([gd, 'removed!']);\n",
              "            Plotly.purge(gd);\n",
              "            observer.disconnect();\n",
              "        }}\n",
              "}});\n",
              "\n",
              "// Listen for the removal of the full notebook cells\n",
              "var notebookContainer = gd.closest('#notebook-container');\n",
              "if (notebookContainer) {{\n",
              "    x.observe(notebookContainer, {childList: true});\n",
              "}}\n",
              "\n",
              "// Listen for the clearing of the current output cell\n",
              "var outputEl = gd.closest('.output');\n",
              "if (outputEl) {{\n",
              "    x.observe(outputEl, {childList: true});\n",
              "}}\n",
              "\n",
              "                        })                };                            </script>        </div>\n",
              "</body>\n",
              "</html>"
            ]
          },
          "metadata": {}
        }
      ]
    },
    {
      "cell_type": "code",
      "source": [
        "import pandas as pd\n",
        "import plotly.express as px\n",
        "\n",
        "# Suponiendo que 'df' es tu DataFrame y ya contiene los datos\n",
        "\n",
        "# Filtrar por el período específico\n",
        "data_filtrada = notas_t[notas_t['PERIODO'] == '2023-02']\n",
        "\n",
        "# Contar el número de registros por género y calificación\n",
        "conteo = data_filtrada.groupby(['GÉNERO', 'CALIFICACIÓN']).size().reset_index(name='Cantidad')\n",
        "\n",
        "# Calcular el total por género para el cálculo del porcentaje\n",
        "total_por_genero = conteo.groupby('GÉNERO')['Cantidad'].transform('sum')\n",
        "\n",
        "# Calcular el porcentaje\n",
        "conteo['Porcentaje'] = (conteo['Cantidad'] / total_por_genero * 100).round(1)\n",
        "\n",
        "# Crear el gráfico de barras interactivo con Plotly\n",
        "fig = px.bar(conteo, x='GÉNERO', y='Cantidad', color='CALIFICACIÓN',\n",
        "             text=conteo['Porcentaje'].apply(lambda x: f'{x}%'),\n",
        "             barmode='group',\n",
        "             title='Porcentaje de Estudiantes por Género y Calificación en el Período 2023-02',\n",
        "             labels={'GÉNERO': 'Género', 'Cantidad': 'Cantidad', 'CALIFICACIÓN': 'Calificación'})\n",
        "\n",
        "# Actualizar el diseño del gráfico\n",
        "fig.update_traces(textposition='outside')\n",
        "fig.update_layout(xaxis_title='Género',\n",
        "                  yaxis_title='Número de Estudiantes',\n",
        "                  legend_title='Calificación',\n",
        "                  width=600,\n",
        "                  height=500)\n",
        "\n",
        "# Mostrar el gráfico\n",
        "fig.show()\n"
      ],
      "metadata": {
        "colab": {
          "base_uri": "https://localhost:8080/",
          "height": 517
        },
        "id": "e75EmmpkdCgF",
        "outputId": "628c4d72-72cb-4e1c-ff5f-7eaca98db529"
      },
      "execution_count": null,
      "outputs": [
        {
          "output_type": "display_data",
          "data": {
            "text/html": [
              "<html>\n",
              "<head><meta charset=\"utf-8\" /></head>\n",
              "<body>\n",
              "    <div>            <script src=\"https://cdnjs.cloudflare.com/ajax/libs/mathjax/2.7.5/MathJax.js?config=TeX-AMS-MML_SVG\"></script><script type=\"text/javascript\">if (window.MathJax && window.MathJax.Hub && window.MathJax.Hub.Config) {window.MathJax.Hub.Config({SVG: {font: \"STIX-Web\"}});}</script>                <script type=\"text/javascript\">window.PlotlyConfig = {MathJaxConfig: 'local'};</script>\n",
              "        <script charset=\"utf-8\" src=\"https://cdn.plot.ly/plotly-2.24.1.min.js\"></script>                <div id=\"ead7bf9d-5870-4c95-93e2-8752e0f4ae4d\" class=\"plotly-graph-div\" style=\"height:500px; width:600px;\"></div>            <script type=\"text/javascript\">                                    window.PLOTLYENV=window.PLOTLYENV || {};                                    if (document.getElementById(\"ead7bf9d-5870-4c95-93e2-8752e0f4ae4d\")) {                    Plotly.newPlot(                        \"ead7bf9d-5870-4c95-93e2-8752e0f4ae4d\",                        [{\"alignmentgroup\":\"True\",\"hovertemplate\":\"Calificaci\\u00f3n=NS\\u003cbr\\u003eG\\u00e9nero=%{x}\\u003cbr\\u003eCantidad=%{y}\\u003cbr\\u003etext=%{text}\\u003cextra\\u003e\\u003c\\u002fextra\\u003e\",\"legendgroup\":\"NS\",\"marker\":{\"color\":\"#636efa\",\"pattern\":{\"shape\":\"\"}},\"name\":\"NS\",\"offsetgroup\":\"NS\",\"orientation\":\"v\",\"showlegend\":true,\"text\":[\"9.2%\",\"12.2%\"],\"textposition\":\"outside\",\"x\":[\"Femenino\",\"Masculino\"],\"xaxis\":\"x\",\"y\":[71,370],\"yaxis\":\"y\",\"type\":\"bar\"},{\"alignmentgroup\":\"True\",\"hovertemplate\":\"Calificaci\\u00f3n=PF\\u003cbr\\u003eG\\u00e9nero=%{x}\\u003cbr\\u003eCantidad=%{y}\\u003cbr\\u003etext=%{text}\\u003cextra\\u003e\\u003c\\u002fextra\\u003e\",\"legendgroup\":\"PF\",\"marker\":{\"color\":\"#EF553B\",\"pattern\":{\"shape\":\"\"}},\"name\":\"PF\",\"offsetgroup\":\"PF\",\"orientation\":\"v\",\"showlegend\":true,\"text\":[\"2.7%\",\"4.8%\"],\"textposition\":\"outside\",\"x\":[\"Femenino\",\"Masculino\"],\"xaxis\":\"x\",\"y\":[21,145],\"yaxis\":\"y\",\"type\":\"bar\"},{\"alignmentgroup\":\"True\",\"hovertemplate\":\"Calificaci\\u00f3n=SP\\u003cbr\\u003eG\\u00e9nero=%{x}\\u003cbr\\u003eCantidad=%{y}\\u003cbr\\u003etext=%{text}\\u003cextra\\u003e\\u003c\\u002fextra\\u003e\",\"legendgroup\":\"SP\",\"marker\":{\"color\":\"#00cc96\",\"pattern\":{\"shape\":\"\"}},\"name\":\"SP\",\"offsetgroup\":\"SP\",\"orientation\":\"v\",\"showlegend\":true,\"text\":[\"88.0%\",\"83.0%\"],\"textposition\":\"outside\",\"x\":[\"Femenino\",\"Masculino\"],\"xaxis\":\"x\",\"y\":[677,2522],\"yaxis\":\"y\",\"type\":\"bar\"},{\"alignmentgroup\":\"True\",\"hovertemplate\":\"Calificaci\\u00f3n=IN\\u003cbr\\u003eG\\u00e9nero=%{x}\\u003cbr\\u003eCantidad=%{y}\\u003cbr\\u003etext=%{text}\\u003cextra\\u003e\\u003c\\u002fextra\\u003e\",\"legendgroup\":\"IN\",\"marker\":{\"color\":\"#ab63fa\",\"pattern\":{\"shape\":\"\"}},\"name\":\"IN\",\"offsetgroup\":\"IN\",\"orientation\":\"v\",\"showlegend\":true,\"text\":[\"0.1%\"],\"textposition\":\"outside\",\"x\":[\"Masculino\"],\"xaxis\":\"x\",\"y\":[2],\"yaxis\":\"y\",\"type\":\"bar\"}],                        {\"template\":{\"data\":{\"histogram2dcontour\":[{\"type\":\"histogram2dcontour\",\"colorbar\":{\"outlinewidth\":0,\"ticks\":\"\"},\"colorscale\":[[0.0,\"#0d0887\"],[0.1111111111111111,\"#46039f\"],[0.2222222222222222,\"#7201a8\"],[0.3333333333333333,\"#9c179e\"],[0.4444444444444444,\"#bd3786\"],[0.5555555555555556,\"#d8576b\"],[0.6666666666666666,\"#ed7953\"],[0.7777777777777778,\"#fb9f3a\"],[0.8888888888888888,\"#fdca26\"],[1.0,\"#f0f921\"]]}],\"choropleth\":[{\"type\":\"choropleth\",\"colorbar\":{\"outlinewidth\":0,\"ticks\":\"\"}}],\"histogram2d\":[{\"type\":\"histogram2d\",\"colorbar\":{\"outlinewidth\":0,\"ticks\":\"\"},\"colorscale\":[[0.0,\"#0d0887\"],[0.1111111111111111,\"#46039f\"],[0.2222222222222222,\"#7201a8\"],[0.3333333333333333,\"#9c179e\"],[0.4444444444444444,\"#bd3786\"],[0.5555555555555556,\"#d8576b\"],[0.6666666666666666,\"#ed7953\"],[0.7777777777777778,\"#fb9f3a\"],[0.8888888888888888,\"#fdca26\"],[1.0,\"#f0f921\"]]}],\"heatmap\":[{\"type\":\"heatmap\",\"colorbar\":{\"outlinewidth\":0,\"ticks\":\"\"},\"colorscale\":[[0.0,\"#0d0887\"],[0.1111111111111111,\"#46039f\"],[0.2222222222222222,\"#7201a8\"],[0.3333333333333333,\"#9c179e\"],[0.4444444444444444,\"#bd3786\"],[0.5555555555555556,\"#d8576b\"],[0.6666666666666666,\"#ed7953\"],[0.7777777777777778,\"#fb9f3a\"],[0.8888888888888888,\"#fdca26\"],[1.0,\"#f0f921\"]]}],\"heatmapgl\":[{\"type\":\"heatmapgl\",\"colorbar\":{\"outlinewidth\":0,\"ticks\":\"\"},\"colorscale\":[[0.0,\"#0d0887\"],[0.1111111111111111,\"#46039f\"],[0.2222222222222222,\"#7201a8\"],[0.3333333333333333,\"#9c179e\"],[0.4444444444444444,\"#bd3786\"],[0.5555555555555556,\"#d8576b\"],[0.6666666666666666,\"#ed7953\"],[0.7777777777777778,\"#fb9f3a\"],[0.8888888888888888,\"#fdca26\"],[1.0,\"#f0f921\"]]}],\"contourcarpet\":[{\"type\":\"contourcarpet\",\"colorbar\":{\"outlinewidth\":0,\"ticks\":\"\"}}],\"contour\":[{\"type\":\"contour\",\"colorbar\":{\"outlinewidth\":0,\"ticks\":\"\"},\"colorscale\":[[0.0,\"#0d0887\"],[0.1111111111111111,\"#46039f\"],[0.2222222222222222,\"#7201a8\"],[0.3333333333333333,\"#9c179e\"],[0.4444444444444444,\"#bd3786\"],[0.5555555555555556,\"#d8576b\"],[0.6666666666666666,\"#ed7953\"],[0.7777777777777778,\"#fb9f3a\"],[0.8888888888888888,\"#fdca26\"],[1.0,\"#f0f921\"]]}],\"surface\":[{\"type\":\"surface\",\"colorbar\":{\"outlinewidth\":0,\"ticks\":\"\"},\"colorscale\":[[0.0,\"#0d0887\"],[0.1111111111111111,\"#46039f\"],[0.2222222222222222,\"#7201a8\"],[0.3333333333333333,\"#9c179e\"],[0.4444444444444444,\"#bd3786\"],[0.5555555555555556,\"#d8576b\"],[0.6666666666666666,\"#ed7953\"],[0.7777777777777778,\"#fb9f3a\"],[0.8888888888888888,\"#fdca26\"],[1.0,\"#f0f921\"]]}],\"mesh3d\":[{\"type\":\"mesh3d\",\"colorbar\":{\"outlinewidth\":0,\"ticks\":\"\"}}],\"scatter\":[{\"fillpattern\":{\"fillmode\":\"overlay\",\"size\":10,\"solidity\":0.2},\"type\":\"scatter\"}],\"parcoords\":[{\"type\":\"parcoords\",\"line\":{\"colorbar\":{\"outlinewidth\":0,\"ticks\":\"\"}}}],\"scatterpolargl\":[{\"type\":\"scatterpolargl\",\"marker\":{\"colorbar\":{\"outlinewidth\":0,\"ticks\":\"\"}}}],\"bar\":[{\"error_x\":{\"color\":\"#2a3f5f\"},\"error_y\":{\"color\":\"#2a3f5f\"},\"marker\":{\"line\":{\"color\":\"#E5ECF6\",\"width\":0.5},\"pattern\":{\"fillmode\":\"overlay\",\"size\":10,\"solidity\":0.2}},\"type\":\"bar\"}],\"scattergeo\":[{\"type\":\"scattergeo\",\"marker\":{\"colorbar\":{\"outlinewidth\":0,\"ticks\":\"\"}}}],\"scatterpolar\":[{\"type\":\"scatterpolar\",\"marker\":{\"colorbar\":{\"outlinewidth\":0,\"ticks\":\"\"}}}],\"histogram\":[{\"marker\":{\"pattern\":{\"fillmode\":\"overlay\",\"size\":10,\"solidity\":0.2}},\"type\":\"histogram\"}],\"scattergl\":[{\"type\":\"scattergl\",\"marker\":{\"colorbar\":{\"outlinewidth\":0,\"ticks\":\"\"}}}],\"scatter3d\":[{\"type\":\"scatter3d\",\"line\":{\"colorbar\":{\"outlinewidth\":0,\"ticks\":\"\"}},\"marker\":{\"colorbar\":{\"outlinewidth\":0,\"ticks\":\"\"}}}],\"scattermapbox\":[{\"type\":\"scattermapbox\",\"marker\":{\"colorbar\":{\"outlinewidth\":0,\"ticks\":\"\"}}}],\"scatterternary\":[{\"type\":\"scatterternary\",\"marker\":{\"colorbar\":{\"outlinewidth\":0,\"ticks\":\"\"}}}],\"scattercarpet\":[{\"type\":\"scattercarpet\",\"marker\":{\"colorbar\":{\"outlinewidth\":0,\"ticks\":\"\"}}}],\"carpet\":[{\"aaxis\":{\"endlinecolor\":\"#2a3f5f\",\"gridcolor\":\"white\",\"linecolor\":\"white\",\"minorgridcolor\":\"white\",\"startlinecolor\":\"#2a3f5f\"},\"baxis\":{\"endlinecolor\":\"#2a3f5f\",\"gridcolor\":\"white\",\"linecolor\":\"white\",\"minorgridcolor\":\"white\",\"startlinecolor\":\"#2a3f5f\"},\"type\":\"carpet\"}],\"table\":[{\"cells\":{\"fill\":{\"color\":\"#EBF0F8\"},\"line\":{\"color\":\"white\"}},\"header\":{\"fill\":{\"color\":\"#C8D4E3\"},\"line\":{\"color\":\"white\"}},\"type\":\"table\"}],\"barpolar\":[{\"marker\":{\"line\":{\"color\":\"#E5ECF6\",\"width\":0.5},\"pattern\":{\"fillmode\":\"overlay\",\"size\":10,\"solidity\":0.2}},\"type\":\"barpolar\"}],\"pie\":[{\"automargin\":true,\"type\":\"pie\"}]},\"layout\":{\"autotypenumbers\":\"strict\",\"colorway\":[\"#636efa\",\"#EF553B\",\"#00cc96\",\"#ab63fa\",\"#FFA15A\",\"#19d3f3\",\"#FF6692\",\"#B6E880\",\"#FF97FF\",\"#FECB52\"],\"font\":{\"color\":\"#2a3f5f\"},\"hovermode\":\"closest\",\"hoverlabel\":{\"align\":\"left\"},\"paper_bgcolor\":\"white\",\"plot_bgcolor\":\"#E5ECF6\",\"polar\":{\"bgcolor\":\"#E5ECF6\",\"angularaxis\":{\"gridcolor\":\"white\",\"linecolor\":\"white\",\"ticks\":\"\"},\"radialaxis\":{\"gridcolor\":\"white\",\"linecolor\":\"white\",\"ticks\":\"\"}},\"ternary\":{\"bgcolor\":\"#E5ECF6\",\"aaxis\":{\"gridcolor\":\"white\",\"linecolor\":\"white\",\"ticks\":\"\"},\"baxis\":{\"gridcolor\":\"white\",\"linecolor\":\"white\",\"ticks\":\"\"},\"caxis\":{\"gridcolor\":\"white\",\"linecolor\":\"white\",\"ticks\":\"\"}},\"coloraxis\":{\"colorbar\":{\"outlinewidth\":0,\"ticks\":\"\"}},\"colorscale\":{\"sequential\":[[0.0,\"#0d0887\"],[0.1111111111111111,\"#46039f\"],[0.2222222222222222,\"#7201a8\"],[0.3333333333333333,\"#9c179e\"],[0.4444444444444444,\"#bd3786\"],[0.5555555555555556,\"#d8576b\"],[0.6666666666666666,\"#ed7953\"],[0.7777777777777778,\"#fb9f3a\"],[0.8888888888888888,\"#fdca26\"],[1.0,\"#f0f921\"]],\"sequentialminus\":[[0.0,\"#0d0887\"],[0.1111111111111111,\"#46039f\"],[0.2222222222222222,\"#7201a8\"],[0.3333333333333333,\"#9c179e\"],[0.4444444444444444,\"#bd3786\"],[0.5555555555555556,\"#d8576b\"],[0.6666666666666666,\"#ed7953\"],[0.7777777777777778,\"#fb9f3a\"],[0.8888888888888888,\"#fdca26\"],[1.0,\"#f0f921\"]],\"diverging\":[[0,\"#8e0152\"],[0.1,\"#c51b7d\"],[0.2,\"#de77ae\"],[0.3,\"#f1b6da\"],[0.4,\"#fde0ef\"],[0.5,\"#f7f7f7\"],[0.6,\"#e6f5d0\"],[0.7,\"#b8e186\"],[0.8,\"#7fbc41\"],[0.9,\"#4d9221\"],[1,\"#276419\"]]},\"xaxis\":{\"gridcolor\":\"white\",\"linecolor\":\"white\",\"ticks\":\"\",\"title\":{\"standoff\":15},\"zerolinecolor\":\"white\",\"automargin\":true,\"zerolinewidth\":2},\"yaxis\":{\"gridcolor\":\"white\",\"linecolor\":\"white\",\"ticks\":\"\",\"title\":{\"standoff\":15},\"zerolinecolor\":\"white\",\"automargin\":true,\"zerolinewidth\":2},\"scene\":{\"xaxis\":{\"backgroundcolor\":\"#E5ECF6\",\"gridcolor\":\"white\",\"linecolor\":\"white\",\"showbackground\":true,\"ticks\":\"\",\"zerolinecolor\":\"white\",\"gridwidth\":2},\"yaxis\":{\"backgroundcolor\":\"#E5ECF6\",\"gridcolor\":\"white\",\"linecolor\":\"white\",\"showbackground\":true,\"ticks\":\"\",\"zerolinecolor\":\"white\",\"gridwidth\":2},\"zaxis\":{\"backgroundcolor\":\"#E5ECF6\",\"gridcolor\":\"white\",\"linecolor\":\"white\",\"showbackground\":true,\"ticks\":\"\",\"zerolinecolor\":\"white\",\"gridwidth\":2}},\"shapedefaults\":{\"line\":{\"color\":\"#2a3f5f\"}},\"annotationdefaults\":{\"arrowcolor\":\"#2a3f5f\",\"arrowhead\":0,\"arrowwidth\":1},\"geo\":{\"bgcolor\":\"white\",\"landcolor\":\"#E5ECF6\",\"subunitcolor\":\"white\",\"showland\":true,\"showlakes\":true,\"lakecolor\":\"white\"},\"title\":{\"x\":0.05},\"mapbox\":{\"style\":\"light\"}}},\"xaxis\":{\"anchor\":\"y\",\"domain\":[0.0,1.0],\"title\":{\"text\":\"G\\u00e9nero\"}},\"yaxis\":{\"anchor\":\"x\",\"domain\":[0.0,1.0],\"title\":{\"text\":\"N\\u00famero de Estudiantes\"}},\"legend\":{\"title\":{\"text\":\"Calificaci\\u00f3n\"},\"tracegroupgap\":0},\"title\":{\"text\":\"Porcentaje de Estudiantes por G\\u00e9nero y Calificaci\\u00f3n en el Per\\u00edodo 2023-02\"},\"barmode\":\"group\",\"width\":600,\"height\":500},                        {\"responsive\": true}                    ).then(function(){\n",
              "                            \n",
              "var gd = document.getElementById('ead7bf9d-5870-4c95-93e2-8752e0f4ae4d');\n",
              "var x = new MutationObserver(function (mutations, observer) {{\n",
              "        var display = window.getComputedStyle(gd).display;\n",
              "        if (!display || display === 'none') {{\n",
              "            console.log([gd, 'removed!']);\n",
              "            Plotly.purge(gd);\n",
              "            observer.disconnect();\n",
              "        }}\n",
              "}});\n",
              "\n",
              "// Listen for the removal of the full notebook cells\n",
              "var notebookContainer = gd.closest('#notebook-container');\n",
              "if (notebookContainer) {{\n",
              "    x.observe(notebookContainer, {childList: true});\n",
              "}}\n",
              "\n",
              "// Listen for the clearing of the current output cell\n",
              "var outputEl = gd.closest('.output');\n",
              "if (outputEl) {{\n",
              "    x.observe(outputEl, {childList: true});\n",
              "}}\n",
              "\n",
              "                        })                };                            </script>        </div>\n",
              "</body>\n",
              "</html>"
            ]
          },
          "metadata": {}
        }
      ]
    },
    {
      "cell_type": "code",
      "source": [
        "# Obtener el mayor promedio semestral para hombres y mujeres por separado\n",
        "mayor_promedio_hombres = data_filtrado[data_filtrado['GÉNERO'] == 'Masculino']['PROMEDIO SEMESTRAL'].max()\n",
        "mayor_promedio_mujeres = data_filtrado[data_filtrado['GÉNERO'] == 'Femenino']['PROMEDIO SEMESTRAL'].max()\n",
        "\n",
        "# Filtrar los datos para obtener solo los registros con el mayor promedio semestral para hombres y mujeres\n",
        "mejor_promedio_hombres = data_filtrado[(data_filtrado['GÉNERO'] == 'Masculino') & (data_filtrado['PROMEDIO SEMESTRAL'] == mayor_promedio_hombres)]\n",
        "mejor_promedio_mujeres = data_filtrado[(data_filtrado['GÉNERO'] == 'Femenino') & (data_filtrado['PROMEDIO SEMESTRAL'] == mayor_promedio_mujeres)]\n",
        "\n",
        "# Contar el número de hombres y mujeres con el mayor promedio semestral\n",
        "cantidad_hombres = len(mejor_promedio_hombres)\n",
        "cantidad_mujeres = len(mejor_promedio_mujeres)\n",
        "\n",
        "# Imprimir los resultados\n",
        "print(\"Número de hombres con el mayor promedio semestral:\", cantidad_hombres)\n",
        "print(\"Número de mujeres con el mayor promedio semestral:\", cantidad_mujeres)\n"
      ],
      "metadata": {
        "colab": {
          "base_uri": "https://localhost:8080/"
        },
        "id": "erSrDNPHGuVW",
        "outputId": "737a0690-f5d7-4740-dd96-70884d0b360f"
      },
      "execution_count": null,
      "outputs": [
        {
          "output_type": "stream",
          "name": "stdout",
          "text": [
            "Número de hombres con el mayor promedio semestral: 2\n",
            "Número de mujeres con el mayor promedio semestral: 5\n"
          ]
        }
      ]
    },
    {
      "cell_type": "code",
      "source": [
        "# Filtrar los datos para obtener solo los registros de hombres y mujeres con CALIFICACIÓN 'NS' o 'SP'\n",
        "hombres_NS = data_filtrado[(data_filtrado['GÉNERO'] == 'Masculino') & (data_filtrado['CALIFICACIÓN'] == 'NS')]\n",
        "mujeres_NS = data_filtrado[(data_filtrado['GÉNERO'] == 'Femenino') & (data_filtrado['CALIFICACIÓN'] == 'NS')]\n",
        "hombres_SP = data_filtrado[(data_filtrado['GÉNERO'] == 'Masculino') & (data_filtrado['CALIFICACIÓN'] == 'SP')]\n",
        "mujeres_SP = data_filtrado[(data_filtrado['GÉNERO'] == 'Femenino') & (data_filtrado['CALIFICACIÓN'] == 'SP')]\n",
        "\n",
        "# Contar el número de hombres y mujeres con CALIFICACIÓN 'NS' y 'SP'\n",
        "cantidad_hombres_NS = len(hombres_NS)\n",
        "cantidad_mujeres_NS = len(mujeres_NS)\n",
        "cantidad_hombres_SP = len(hombres_SP)\n",
        "cantidad_mujeres_SP = len(mujeres_SP)\n",
        "\n",
        "# Imprimir los resultados\n",
        "print(\"Cantidad de hombres con CALIFICACIÓN 'NS':\", cantidad_hombres_NS)\n",
        "print(\"Cantidad de mujeres con CALIFICACIÓN 'NS':\", cantidad_mujeres_NS)\n",
        "print(\"Cantidad de hombres con CALIFICACIÓN 'SP':\", cantidad_hombres_SP)\n",
        "print(\"Cantidad de mujeres con CALIFICACIÓN 'SP':\", cantidad_mujeres_SP)\n"
      ],
      "metadata": {
        "colab": {
          "base_uri": "https://localhost:8080/"
        },
        "id": "jn_MRq90G2CF",
        "outputId": "95abd058-9040-4c15-d7b0-45dad7b1d4e5"
      },
      "execution_count": null,
      "outputs": [
        {
          "output_type": "stream",
          "name": "stdout",
          "text": [
            "Cantidad de hombres con CALIFICACIÓN 'NS': 1\n",
            "Cantidad de mujeres con CALIFICACIÓN 'NS': 0\n",
            "Cantidad de hombres con CALIFICACIÓN 'SP': 14\n",
            "Cantidad de mujeres con CALIFICACIÓN 'SP': 2\n"
          ]
        }
      ]
    },
    {
      "cell_type": "code",
      "source": [
        "import plotly.express as px\n",
        "import pandas as pd\n",
        "\n",
        "\n",
        "\n",
        "# Crear un DataFrame con los datos de calificaciones 'NS' y 'SP' por género\n",
        "data_calificaciones = pd.DataFrame({\n",
        "    'Género': ['Masculino', 'Femenino', 'Masculino', 'Femenino'],\n",
        "    'Calificación': ['NS', 'NS', 'SP', 'SP'],\n",
        "    'Cantidad': [cantidad_hombres_NS, cantidad_mujeres_NS, cantidad_hombres_SP, cantidad_mujeres_SP],\n",
        "    'Total': [cantidad_hombres_NS + cantidad_hombres_SP, cantidad_mujeres_NS + cantidad_mujeres_SP,\n",
        "              cantidad_hombres_NS + cantidad_hombres_SP, cantidad_mujeres_NS + cantidad_mujeres_SP]\n",
        "})\n",
        "\n",
        "# Crear un gráfico de barras con Plotly Express\n",
        "fig = px.bar(data_calificaciones, x='Género', y='Cantidad', color='Calificación',\n",
        "             text='Cantidad', pattern_shape='Calificación', pattern_shape_sequence=[\"x\", \"+\"],\n",
        "             title='Cantidad de Hombres y Mujeres con Calificaciones NS y SP',\n",
        "             labels={'Cantidad': 'Cantidad de Estudiantes'})\n",
        "\n",
        "# Añadir anotaciones de texto con los totales para cada género\n",
        "for idx, row in data_calificaciones.iterrows():\n",
        "    fig.add_annotation(x=row['Género'], y=row['Cantidad'],\n",
        "                       text=f\"({row['Total']})\",\n",
        "                       showarrow=False, yshift=10)\n",
        "\n",
        "fig.update_traces(texttemplate='%{text}', textposition='outside')\n",
        "fig.update_layout(uniformtext_minsize=8, uniformtext_mode='hide')\n",
        "fig.show()\n"
      ],
      "metadata": {
        "colab": {
          "base_uri": "https://localhost:8080/",
          "height": 542
        },
        "id": "wloaLSW8LhuE",
        "outputId": "2bd9b43b-53b4-4204-9595-fffcb831310b"
      },
      "execution_count": null,
      "outputs": [
        {
          "output_type": "display_data",
          "data": {
            "text/html": [
              "<html>\n",
              "<head><meta charset=\"utf-8\" /></head>\n",
              "<body>\n",
              "    <div>            <script src=\"https://cdnjs.cloudflare.com/ajax/libs/mathjax/2.7.5/MathJax.js?config=TeX-AMS-MML_SVG\"></script><script type=\"text/javascript\">if (window.MathJax && window.MathJax.Hub && window.MathJax.Hub.Config) {window.MathJax.Hub.Config({SVG: {font: \"STIX-Web\"}});}</script>                <script type=\"text/javascript\">window.PlotlyConfig = {MathJaxConfig: 'local'};</script>\n",
              "        <script charset=\"utf-8\" src=\"https://cdn.plot.ly/plotly-2.24.1.min.js\"></script>                <div id=\"8d80a6f9-56d4-4793-a1a5-9571fd503551\" class=\"plotly-graph-div\" style=\"height:525px; width:100%;\"></div>            <script type=\"text/javascript\">                                    window.PLOTLYENV=window.PLOTLYENV || {};                                    if (document.getElementById(\"8d80a6f9-56d4-4793-a1a5-9571fd503551\")) {                    Plotly.newPlot(                        \"8d80a6f9-56d4-4793-a1a5-9571fd503551\",                        [{\"alignmentgroup\":\"True\",\"hovertemplate\":\"Calificaci\\u00f3n=NS\\u003cbr\\u003eG\\u00e9nero=%{x}\\u003cbr\\u003eCantidad de Estudiantes=%{text}\\u003cextra\\u003e\\u003c\\u002fextra\\u003e\",\"legendgroup\":\"NS\",\"marker\":{\"color\":\"#636efa\",\"pattern\":{\"shape\":\"x\"}},\"name\":\"NS\",\"offsetgroup\":\"NS\",\"orientation\":\"v\",\"showlegend\":true,\"text\":[1.0,0.0],\"textposition\":\"outside\",\"x\":[\"Masculino\",\"Femenino\"],\"xaxis\":\"x\",\"y\":[1,0],\"yaxis\":\"y\",\"type\":\"bar\",\"texttemplate\":\"%{text}\"},{\"alignmentgroup\":\"True\",\"hovertemplate\":\"Calificaci\\u00f3n=SP\\u003cbr\\u003eG\\u00e9nero=%{x}\\u003cbr\\u003eCantidad de Estudiantes=%{text}\\u003cextra\\u003e\\u003c\\u002fextra\\u003e\",\"legendgroup\":\"SP\",\"marker\":{\"color\":\"#EF553B\",\"pattern\":{\"shape\":\"+\"}},\"name\":\"SP\",\"offsetgroup\":\"SP\",\"orientation\":\"v\",\"showlegend\":true,\"text\":[14.0,2.0],\"textposition\":\"outside\",\"x\":[\"Masculino\",\"Femenino\"],\"xaxis\":\"x\",\"y\":[14,2],\"yaxis\":\"y\",\"type\":\"bar\",\"texttemplate\":\"%{text}\"}],                        {\"template\":{\"data\":{\"histogram2dcontour\":[{\"type\":\"histogram2dcontour\",\"colorbar\":{\"outlinewidth\":0,\"ticks\":\"\"},\"colorscale\":[[0.0,\"#0d0887\"],[0.1111111111111111,\"#46039f\"],[0.2222222222222222,\"#7201a8\"],[0.3333333333333333,\"#9c179e\"],[0.4444444444444444,\"#bd3786\"],[0.5555555555555556,\"#d8576b\"],[0.6666666666666666,\"#ed7953\"],[0.7777777777777778,\"#fb9f3a\"],[0.8888888888888888,\"#fdca26\"],[1.0,\"#f0f921\"]]}],\"choropleth\":[{\"type\":\"choropleth\",\"colorbar\":{\"outlinewidth\":0,\"ticks\":\"\"}}],\"histogram2d\":[{\"type\":\"histogram2d\",\"colorbar\":{\"outlinewidth\":0,\"ticks\":\"\"},\"colorscale\":[[0.0,\"#0d0887\"],[0.1111111111111111,\"#46039f\"],[0.2222222222222222,\"#7201a8\"],[0.3333333333333333,\"#9c179e\"],[0.4444444444444444,\"#bd3786\"],[0.5555555555555556,\"#d8576b\"],[0.6666666666666666,\"#ed7953\"],[0.7777777777777778,\"#fb9f3a\"],[0.8888888888888888,\"#fdca26\"],[1.0,\"#f0f921\"]]}],\"heatmap\":[{\"type\":\"heatmap\",\"colorbar\":{\"outlinewidth\":0,\"ticks\":\"\"},\"colorscale\":[[0.0,\"#0d0887\"],[0.1111111111111111,\"#46039f\"],[0.2222222222222222,\"#7201a8\"],[0.3333333333333333,\"#9c179e\"],[0.4444444444444444,\"#bd3786\"],[0.5555555555555556,\"#d8576b\"],[0.6666666666666666,\"#ed7953\"],[0.7777777777777778,\"#fb9f3a\"],[0.8888888888888888,\"#fdca26\"],[1.0,\"#f0f921\"]]}],\"heatmapgl\":[{\"type\":\"heatmapgl\",\"colorbar\":{\"outlinewidth\":0,\"ticks\":\"\"},\"colorscale\":[[0.0,\"#0d0887\"],[0.1111111111111111,\"#46039f\"],[0.2222222222222222,\"#7201a8\"],[0.3333333333333333,\"#9c179e\"],[0.4444444444444444,\"#bd3786\"],[0.5555555555555556,\"#d8576b\"],[0.6666666666666666,\"#ed7953\"],[0.7777777777777778,\"#fb9f3a\"],[0.8888888888888888,\"#fdca26\"],[1.0,\"#f0f921\"]]}],\"contourcarpet\":[{\"type\":\"contourcarpet\",\"colorbar\":{\"outlinewidth\":0,\"ticks\":\"\"}}],\"contour\":[{\"type\":\"contour\",\"colorbar\":{\"outlinewidth\":0,\"ticks\":\"\"},\"colorscale\":[[0.0,\"#0d0887\"],[0.1111111111111111,\"#46039f\"],[0.2222222222222222,\"#7201a8\"],[0.3333333333333333,\"#9c179e\"],[0.4444444444444444,\"#bd3786\"],[0.5555555555555556,\"#d8576b\"],[0.6666666666666666,\"#ed7953\"],[0.7777777777777778,\"#fb9f3a\"],[0.8888888888888888,\"#fdca26\"],[1.0,\"#f0f921\"]]}],\"surface\":[{\"type\":\"surface\",\"colorbar\":{\"outlinewidth\":0,\"ticks\":\"\"},\"colorscale\":[[0.0,\"#0d0887\"],[0.1111111111111111,\"#46039f\"],[0.2222222222222222,\"#7201a8\"],[0.3333333333333333,\"#9c179e\"],[0.4444444444444444,\"#bd3786\"],[0.5555555555555556,\"#d8576b\"],[0.6666666666666666,\"#ed7953\"],[0.7777777777777778,\"#fb9f3a\"],[0.8888888888888888,\"#fdca26\"],[1.0,\"#f0f921\"]]}],\"mesh3d\":[{\"type\":\"mesh3d\",\"colorbar\":{\"outlinewidth\":0,\"ticks\":\"\"}}],\"scatter\":[{\"fillpattern\":{\"fillmode\":\"overlay\",\"size\":10,\"solidity\":0.2},\"type\":\"scatter\"}],\"parcoords\":[{\"type\":\"parcoords\",\"line\":{\"colorbar\":{\"outlinewidth\":0,\"ticks\":\"\"}}}],\"scatterpolargl\":[{\"type\":\"scatterpolargl\",\"marker\":{\"colorbar\":{\"outlinewidth\":0,\"ticks\":\"\"}}}],\"bar\":[{\"error_x\":{\"color\":\"#2a3f5f\"},\"error_y\":{\"color\":\"#2a3f5f\"},\"marker\":{\"line\":{\"color\":\"#E5ECF6\",\"width\":0.5},\"pattern\":{\"fillmode\":\"overlay\",\"size\":10,\"solidity\":0.2}},\"type\":\"bar\"}],\"scattergeo\":[{\"type\":\"scattergeo\",\"marker\":{\"colorbar\":{\"outlinewidth\":0,\"ticks\":\"\"}}}],\"scatterpolar\":[{\"type\":\"scatterpolar\",\"marker\":{\"colorbar\":{\"outlinewidth\":0,\"ticks\":\"\"}}}],\"histogram\":[{\"marker\":{\"pattern\":{\"fillmode\":\"overlay\",\"size\":10,\"solidity\":0.2}},\"type\":\"histogram\"}],\"scattergl\":[{\"type\":\"scattergl\",\"marker\":{\"colorbar\":{\"outlinewidth\":0,\"ticks\":\"\"}}}],\"scatter3d\":[{\"type\":\"scatter3d\",\"line\":{\"colorbar\":{\"outlinewidth\":0,\"ticks\":\"\"}},\"marker\":{\"colorbar\":{\"outlinewidth\":0,\"ticks\":\"\"}}}],\"scattermapbox\":[{\"type\":\"scattermapbox\",\"marker\":{\"colorbar\":{\"outlinewidth\":0,\"ticks\":\"\"}}}],\"scatterternary\":[{\"type\":\"scatterternary\",\"marker\":{\"colorbar\":{\"outlinewidth\":0,\"ticks\":\"\"}}}],\"scattercarpet\":[{\"type\":\"scattercarpet\",\"marker\":{\"colorbar\":{\"outlinewidth\":0,\"ticks\":\"\"}}}],\"carpet\":[{\"aaxis\":{\"endlinecolor\":\"#2a3f5f\",\"gridcolor\":\"white\",\"linecolor\":\"white\",\"minorgridcolor\":\"white\",\"startlinecolor\":\"#2a3f5f\"},\"baxis\":{\"endlinecolor\":\"#2a3f5f\",\"gridcolor\":\"white\",\"linecolor\":\"white\",\"minorgridcolor\":\"white\",\"startlinecolor\":\"#2a3f5f\"},\"type\":\"carpet\"}],\"table\":[{\"cells\":{\"fill\":{\"color\":\"#EBF0F8\"},\"line\":{\"color\":\"white\"}},\"header\":{\"fill\":{\"color\":\"#C8D4E3\"},\"line\":{\"color\":\"white\"}},\"type\":\"table\"}],\"barpolar\":[{\"marker\":{\"line\":{\"color\":\"#E5ECF6\",\"width\":0.5},\"pattern\":{\"fillmode\":\"overlay\",\"size\":10,\"solidity\":0.2}},\"type\":\"barpolar\"}],\"pie\":[{\"automargin\":true,\"type\":\"pie\"}]},\"layout\":{\"autotypenumbers\":\"strict\",\"colorway\":[\"#636efa\",\"#EF553B\",\"#00cc96\",\"#ab63fa\",\"#FFA15A\",\"#19d3f3\",\"#FF6692\",\"#B6E880\",\"#FF97FF\",\"#FECB52\"],\"font\":{\"color\":\"#2a3f5f\"},\"hovermode\":\"closest\",\"hoverlabel\":{\"align\":\"left\"},\"paper_bgcolor\":\"white\",\"plot_bgcolor\":\"#E5ECF6\",\"polar\":{\"bgcolor\":\"#E5ECF6\",\"angularaxis\":{\"gridcolor\":\"white\",\"linecolor\":\"white\",\"ticks\":\"\"},\"radialaxis\":{\"gridcolor\":\"white\",\"linecolor\":\"white\",\"ticks\":\"\"}},\"ternary\":{\"bgcolor\":\"#E5ECF6\",\"aaxis\":{\"gridcolor\":\"white\",\"linecolor\":\"white\",\"ticks\":\"\"},\"baxis\":{\"gridcolor\":\"white\",\"linecolor\":\"white\",\"ticks\":\"\"},\"caxis\":{\"gridcolor\":\"white\",\"linecolor\":\"white\",\"ticks\":\"\"}},\"coloraxis\":{\"colorbar\":{\"outlinewidth\":0,\"ticks\":\"\"}},\"colorscale\":{\"sequential\":[[0.0,\"#0d0887\"],[0.1111111111111111,\"#46039f\"],[0.2222222222222222,\"#7201a8\"],[0.3333333333333333,\"#9c179e\"],[0.4444444444444444,\"#bd3786\"],[0.5555555555555556,\"#d8576b\"],[0.6666666666666666,\"#ed7953\"],[0.7777777777777778,\"#fb9f3a\"],[0.8888888888888888,\"#fdca26\"],[1.0,\"#f0f921\"]],\"sequentialminus\":[[0.0,\"#0d0887\"],[0.1111111111111111,\"#46039f\"],[0.2222222222222222,\"#7201a8\"],[0.3333333333333333,\"#9c179e\"],[0.4444444444444444,\"#bd3786\"],[0.5555555555555556,\"#d8576b\"],[0.6666666666666666,\"#ed7953\"],[0.7777777777777778,\"#fb9f3a\"],[0.8888888888888888,\"#fdca26\"],[1.0,\"#f0f921\"]],\"diverging\":[[0,\"#8e0152\"],[0.1,\"#c51b7d\"],[0.2,\"#de77ae\"],[0.3,\"#f1b6da\"],[0.4,\"#fde0ef\"],[0.5,\"#f7f7f7\"],[0.6,\"#e6f5d0\"],[0.7,\"#b8e186\"],[0.8,\"#7fbc41\"],[0.9,\"#4d9221\"],[1,\"#276419\"]]},\"xaxis\":{\"gridcolor\":\"white\",\"linecolor\":\"white\",\"ticks\":\"\",\"title\":{\"standoff\":15},\"zerolinecolor\":\"white\",\"automargin\":true,\"zerolinewidth\":2},\"yaxis\":{\"gridcolor\":\"white\",\"linecolor\":\"white\",\"ticks\":\"\",\"title\":{\"standoff\":15},\"zerolinecolor\":\"white\",\"automargin\":true,\"zerolinewidth\":2},\"scene\":{\"xaxis\":{\"backgroundcolor\":\"#E5ECF6\",\"gridcolor\":\"white\",\"linecolor\":\"white\",\"showbackground\":true,\"ticks\":\"\",\"zerolinecolor\":\"white\",\"gridwidth\":2},\"yaxis\":{\"backgroundcolor\":\"#E5ECF6\",\"gridcolor\":\"white\",\"linecolor\":\"white\",\"showbackground\":true,\"ticks\":\"\",\"zerolinecolor\":\"white\",\"gridwidth\":2},\"zaxis\":{\"backgroundcolor\":\"#E5ECF6\",\"gridcolor\":\"white\",\"linecolor\":\"white\",\"showbackground\":true,\"ticks\":\"\",\"zerolinecolor\":\"white\",\"gridwidth\":2}},\"shapedefaults\":{\"line\":{\"color\":\"#2a3f5f\"}},\"annotationdefaults\":{\"arrowcolor\":\"#2a3f5f\",\"arrowhead\":0,\"arrowwidth\":1},\"geo\":{\"bgcolor\":\"white\",\"landcolor\":\"#E5ECF6\",\"subunitcolor\":\"white\",\"showland\":true,\"showlakes\":true,\"lakecolor\":\"white\"},\"title\":{\"x\":0.05},\"mapbox\":{\"style\":\"light\"}}},\"xaxis\":{\"anchor\":\"y\",\"domain\":[0.0,1.0],\"title\":{\"text\":\"G\\u00e9nero\"}},\"yaxis\":{\"anchor\":\"x\",\"domain\":[0.0,1.0],\"title\":{\"text\":\"Cantidad de Estudiantes\"}},\"legend\":{\"title\":{\"text\":\"Calificaci\\u00f3n\"},\"tracegroupgap\":0},\"title\":{\"text\":\"Cantidad de Hombres y Mujeres con Calificaciones NS y SP\"},\"barmode\":\"relative\",\"annotations\":[{\"showarrow\":false,\"text\":\"(15)\",\"x\":\"Masculino\",\"y\":1,\"yshift\":10},{\"showarrow\":false,\"text\":\"(2)\",\"x\":\"Femenino\",\"y\":0,\"yshift\":10},{\"showarrow\":false,\"text\":\"(15)\",\"x\":\"Masculino\",\"y\":14,\"yshift\":10},{\"showarrow\":false,\"text\":\"(2)\",\"x\":\"Femenino\",\"y\":2,\"yshift\":10}],\"uniformtext\":{\"minsize\":8,\"mode\":\"hide\"}},                        {\"responsive\": true}                    ).then(function(){\n",
              "                            \n",
              "var gd = document.getElementById('8d80a6f9-56d4-4793-a1a5-9571fd503551');\n",
              "var x = new MutationObserver(function (mutations, observer) {{\n",
              "        var display = window.getComputedStyle(gd).display;\n",
              "        if (!display || display === 'none') {{\n",
              "            console.log([gd, 'removed!']);\n",
              "            Plotly.purge(gd);\n",
              "            observer.disconnect();\n",
              "        }}\n",
              "}});\n",
              "\n",
              "// Listen for the removal of the full notebook cells\n",
              "var notebookContainer = gd.closest('#notebook-container');\n",
              "if (notebookContainer) {{\n",
              "    x.observe(notebookContainer, {childList: true});\n",
              "}}\n",
              "\n",
              "// Listen for the clearing of the current output cell\n",
              "var outputEl = gd.closest('.output');\n",
              "if (outputEl) {{\n",
              "    x.observe(outputEl, {childList: true});\n",
              "}}\n",
              "\n",
              "                        })                };                            </script>        </div>\n",
              "</body>\n",
              "</html>"
            ]
          },
          "metadata": {}
        }
      ]
    },
    {
      "cell_type": "code",
      "source": [
        "import pandas as pd\n",
        "import plotly.express as px\n",
        "\n",
        "\n",
        "# Filtrar por período igual a '2024-01'\n",
        "data_filtrado = notas_t[notas_t['PERIODO'] == '2023-02']\n",
        "\n",
        "# Contar el número de registros por género\n",
        "conteo_por_genero = data_filtrado['GÉNERO'].value_counts().reset_index()\n",
        "conteo_por_genero.columns = ['Género', 'Cantidad']\n",
        "\n",
        "\n",
        "\n",
        "# Crear un gráfico de barras interactivo con Plotly\n",
        "fig = px.bar(conteo_por_genero, x='Género', y='Cantidad',\n",
        "             text='Cantidad',\n",
        "             labels={'Género': 'Género', 'Cantidad': 'Cantidad'},\n",
        "             title='Recuento por Género en el Período 2024-01',\n",
        "             color='Género',\n",
        "             color_discrete_map={'Masculino': '#ADD8E6', 'Femenino': '#FFB6C1'})\n",
        "\n",
        "# Actualizar el diseño del gráfico\n",
        "fig.update_traces(textposition='outside')\n",
        "fig.update_layout(width=600, height=470)  # Ajustar tamaño del gráfico\n",
        "\n",
        "# Mostrar el gráfico\n",
        "fig.show()\n",
        "\n"
      ],
      "metadata": {
        "colab": {
          "base_uri": "https://localhost:8080/",
          "height": 487
        },
        "id": "WIMhYzGTHv1L",
        "outputId": "a8e5dfa6-2eff-432b-fd30-2f986e3b16f8"
      },
      "execution_count": null,
      "outputs": [
        {
          "output_type": "display_data",
          "data": {
            "text/html": [
              "<html>\n",
              "<head><meta charset=\"utf-8\" /></head>\n",
              "<body>\n",
              "    <div>            <script src=\"https://cdnjs.cloudflare.com/ajax/libs/mathjax/2.7.5/MathJax.js?config=TeX-AMS-MML_SVG\"></script><script type=\"text/javascript\">if (window.MathJax && window.MathJax.Hub && window.MathJax.Hub.Config) {window.MathJax.Hub.Config({SVG: {font: \"STIX-Web\"}});}</script>                <script type=\"text/javascript\">window.PlotlyConfig = {MathJaxConfig: 'local'};</script>\n",
              "        <script charset=\"utf-8\" src=\"https://cdn.plot.ly/plotly-2.24.1.min.js\"></script>                <div id=\"df3b084f-b022-4d9a-9d49-425b6b6388e9\" class=\"plotly-graph-div\" style=\"height:470px; width:600px;\"></div>            <script type=\"text/javascript\">                                    window.PLOTLYENV=window.PLOTLYENV || {};                                    if (document.getElementById(\"df3b084f-b022-4d9a-9d49-425b6b6388e9\")) {                    Plotly.newPlot(                        \"df3b084f-b022-4d9a-9d49-425b6b6388e9\",                        [{\"alignmentgroup\":\"True\",\"hovertemplate\":\"G\\u00e9nero=%{x}\\u003cbr\\u003eCantidad=%{text}\\u003cextra\\u003e\\u003c\\u002fextra\\u003e\",\"legendgroup\":\"Masculino\",\"marker\":{\"color\":\"#ADD8E6\",\"pattern\":{\"shape\":\"\"}},\"name\":\"Masculino\",\"offsetgroup\":\"Masculino\",\"orientation\":\"v\",\"showlegend\":true,\"text\":[3039.0],\"textposition\":\"outside\",\"x\":[\"Masculino\"],\"xaxis\":\"x\",\"y\":[3039],\"yaxis\":\"y\",\"type\":\"bar\"},{\"alignmentgroup\":\"True\",\"hovertemplate\":\"G\\u00e9nero=%{x}\\u003cbr\\u003eCantidad=%{text}\\u003cextra\\u003e\\u003c\\u002fextra\\u003e\",\"legendgroup\":\"Femenino\",\"marker\":{\"color\":\"#FFB6C1\",\"pattern\":{\"shape\":\"\"}},\"name\":\"Femenino\",\"offsetgroup\":\"Femenino\",\"orientation\":\"v\",\"showlegend\":true,\"text\":[769.0],\"textposition\":\"outside\",\"x\":[\"Femenino\"],\"xaxis\":\"x\",\"y\":[769],\"yaxis\":\"y\",\"type\":\"bar\"}],                        {\"template\":{\"data\":{\"histogram2dcontour\":[{\"type\":\"histogram2dcontour\",\"colorbar\":{\"outlinewidth\":0,\"ticks\":\"\"},\"colorscale\":[[0.0,\"#0d0887\"],[0.1111111111111111,\"#46039f\"],[0.2222222222222222,\"#7201a8\"],[0.3333333333333333,\"#9c179e\"],[0.4444444444444444,\"#bd3786\"],[0.5555555555555556,\"#d8576b\"],[0.6666666666666666,\"#ed7953\"],[0.7777777777777778,\"#fb9f3a\"],[0.8888888888888888,\"#fdca26\"],[1.0,\"#f0f921\"]]}],\"choropleth\":[{\"type\":\"choropleth\",\"colorbar\":{\"outlinewidth\":0,\"ticks\":\"\"}}],\"histogram2d\":[{\"type\":\"histogram2d\",\"colorbar\":{\"outlinewidth\":0,\"ticks\":\"\"},\"colorscale\":[[0.0,\"#0d0887\"],[0.1111111111111111,\"#46039f\"],[0.2222222222222222,\"#7201a8\"],[0.3333333333333333,\"#9c179e\"],[0.4444444444444444,\"#bd3786\"],[0.5555555555555556,\"#d8576b\"],[0.6666666666666666,\"#ed7953\"],[0.7777777777777778,\"#fb9f3a\"],[0.8888888888888888,\"#fdca26\"],[1.0,\"#f0f921\"]]}],\"heatmap\":[{\"type\":\"heatmap\",\"colorbar\":{\"outlinewidth\":0,\"ticks\":\"\"},\"colorscale\":[[0.0,\"#0d0887\"],[0.1111111111111111,\"#46039f\"],[0.2222222222222222,\"#7201a8\"],[0.3333333333333333,\"#9c179e\"],[0.4444444444444444,\"#bd3786\"],[0.5555555555555556,\"#d8576b\"],[0.6666666666666666,\"#ed7953\"],[0.7777777777777778,\"#fb9f3a\"],[0.8888888888888888,\"#fdca26\"],[1.0,\"#f0f921\"]]}],\"heatmapgl\":[{\"type\":\"heatmapgl\",\"colorbar\":{\"outlinewidth\":0,\"ticks\":\"\"},\"colorscale\":[[0.0,\"#0d0887\"],[0.1111111111111111,\"#46039f\"],[0.2222222222222222,\"#7201a8\"],[0.3333333333333333,\"#9c179e\"],[0.4444444444444444,\"#bd3786\"],[0.5555555555555556,\"#d8576b\"],[0.6666666666666666,\"#ed7953\"],[0.7777777777777778,\"#fb9f3a\"],[0.8888888888888888,\"#fdca26\"],[1.0,\"#f0f921\"]]}],\"contourcarpet\":[{\"type\":\"contourcarpet\",\"colorbar\":{\"outlinewidth\":0,\"ticks\":\"\"}}],\"contour\":[{\"type\":\"contour\",\"colorbar\":{\"outlinewidth\":0,\"ticks\":\"\"},\"colorscale\":[[0.0,\"#0d0887\"],[0.1111111111111111,\"#46039f\"],[0.2222222222222222,\"#7201a8\"],[0.3333333333333333,\"#9c179e\"],[0.4444444444444444,\"#bd3786\"],[0.5555555555555556,\"#d8576b\"],[0.6666666666666666,\"#ed7953\"],[0.7777777777777778,\"#fb9f3a\"],[0.8888888888888888,\"#fdca26\"],[1.0,\"#f0f921\"]]}],\"surface\":[{\"type\":\"surface\",\"colorbar\":{\"outlinewidth\":0,\"ticks\":\"\"},\"colorscale\":[[0.0,\"#0d0887\"],[0.1111111111111111,\"#46039f\"],[0.2222222222222222,\"#7201a8\"],[0.3333333333333333,\"#9c179e\"],[0.4444444444444444,\"#bd3786\"],[0.5555555555555556,\"#d8576b\"],[0.6666666666666666,\"#ed7953\"],[0.7777777777777778,\"#fb9f3a\"],[0.8888888888888888,\"#fdca26\"],[1.0,\"#f0f921\"]]}],\"mesh3d\":[{\"type\":\"mesh3d\",\"colorbar\":{\"outlinewidth\":0,\"ticks\":\"\"}}],\"scatter\":[{\"fillpattern\":{\"fillmode\":\"overlay\",\"size\":10,\"solidity\":0.2},\"type\":\"scatter\"}],\"parcoords\":[{\"type\":\"parcoords\",\"line\":{\"colorbar\":{\"outlinewidth\":0,\"ticks\":\"\"}}}],\"scatterpolargl\":[{\"type\":\"scatterpolargl\",\"marker\":{\"colorbar\":{\"outlinewidth\":0,\"ticks\":\"\"}}}],\"bar\":[{\"error_x\":{\"color\":\"#2a3f5f\"},\"error_y\":{\"color\":\"#2a3f5f\"},\"marker\":{\"line\":{\"color\":\"#E5ECF6\",\"width\":0.5},\"pattern\":{\"fillmode\":\"overlay\",\"size\":10,\"solidity\":0.2}},\"type\":\"bar\"}],\"scattergeo\":[{\"type\":\"scattergeo\",\"marker\":{\"colorbar\":{\"outlinewidth\":0,\"ticks\":\"\"}}}],\"scatterpolar\":[{\"type\":\"scatterpolar\",\"marker\":{\"colorbar\":{\"outlinewidth\":0,\"ticks\":\"\"}}}],\"histogram\":[{\"marker\":{\"pattern\":{\"fillmode\":\"overlay\",\"size\":10,\"solidity\":0.2}},\"type\":\"histogram\"}],\"scattergl\":[{\"type\":\"scattergl\",\"marker\":{\"colorbar\":{\"outlinewidth\":0,\"ticks\":\"\"}}}],\"scatter3d\":[{\"type\":\"scatter3d\",\"line\":{\"colorbar\":{\"outlinewidth\":0,\"ticks\":\"\"}},\"marker\":{\"colorbar\":{\"outlinewidth\":0,\"ticks\":\"\"}}}],\"scattermapbox\":[{\"type\":\"scattermapbox\",\"marker\":{\"colorbar\":{\"outlinewidth\":0,\"ticks\":\"\"}}}],\"scatterternary\":[{\"type\":\"scatterternary\",\"marker\":{\"colorbar\":{\"outlinewidth\":0,\"ticks\":\"\"}}}],\"scattercarpet\":[{\"type\":\"scattercarpet\",\"marker\":{\"colorbar\":{\"outlinewidth\":0,\"ticks\":\"\"}}}],\"carpet\":[{\"aaxis\":{\"endlinecolor\":\"#2a3f5f\",\"gridcolor\":\"white\",\"linecolor\":\"white\",\"minorgridcolor\":\"white\",\"startlinecolor\":\"#2a3f5f\"},\"baxis\":{\"endlinecolor\":\"#2a3f5f\",\"gridcolor\":\"white\",\"linecolor\":\"white\",\"minorgridcolor\":\"white\",\"startlinecolor\":\"#2a3f5f\"},\"type\":\"carpet\"}],\"table\":[{\"cells\":{\"fill\":{\"color\":\"#EBF0F8\"},\"line\":{\"color\":\"white\"}},\"header\":{\"fill\":{\"color\":\"#C8D4E3\"},\"line\":{\"color\":\"white\"}},\"type\":\"table\"}],\"barpolar\":[{\"marker\":{\"line\":{\"color\":\"#E5ECF6\",\"width\":0.5},\"pattern\":{\"fillmode\":\"overlay\",\"size\":10,\"solidity\":0.2}},\"type\":\"barpolar\"}],\"pie\":[{\"automargin\":true,\"type\":\"pie\"}]},\"layout\":{\"autotypenumbers\":\"strict\",\"colorway\":[\"#636efa\",\"#EF553B\",\"#00cc96\",\"#ab63fa\",\"#FFA15A\",\"#19d3f3\",\"#FF6692\",\"#B6E880\",\"#FF97FF\",\"#FECB52\"],\"font\":{\"color\":\"#2a3f5f\"},\"hovermode\":\"closest\",\"hoverlabel\":{\"align\":\"left\"},\"paper_bgcolor\":\"white\",\"plot_bgcolor\":\"#E5ECF6\",\"polar\":{\"bgcolor\":\"#E5ECF6\",\"angularaxis\":{\"gridcolor\":\"white\",\"linecolor\":\"white\",\"ticks\":\"\"},\"radialaxis\":{\"gridcolor\":\"white\",\"linecolor\":\"white\",\"ticks\":\"\"}},\"ternary\":{\"bgcolor\":\"#E5ECF6\",\"aaxis\":{\"gridcolor\":\"white\",\"linecolor\":\"white\",\"ticks\":\"\"},\"baxis\":{\"gridcolor\":\"white\",\"linecolor\":\"white\",\"ticks\":\"\"},\"caxis\":{\"gridcolor\":\"white\",\"linecolor\":\"white\",\"ticks\":\"\"}},\"coloraxis\":{\"colorbar\":{\"outlinewidth\":0,\"ticks\":\"\"}},\"colorscale\":{\"sequential\":[[0.0,\"#0d0887\"],[0.1111111111111111,\"#46039f\"],[0.2222222222222222,\"#7201a8\"],[0.3333333333333333,\"#9c179e\"],[0.4444444444444444,\"#bd3786\"],[0.5555555555555556,\"#d8576b\"],[0.6666666666666666,\"#ed7953\"],[0.7777777777777778,\"#fb9f3a\"],[0.8888888888888888,\"#fdca26\"],[1.0,\"#f0f921\"]],\"sequentialminus\":[[0.0,\"#0d0887\"],[0.1111111111111111,\"#46039f\"],[0.2222222222222222,\"#7201a8\"],[0.3333333333333333,\"#9c179e\"],[0.4444444444444444,\"#bd3786\"],[0.5555555555555556,\"#d8576b\"],[0.6666666666666666,\"#ed7953\"],[0.7777777777777778,\"#fb9f3a\"],[0.8888888888888888,\"#fdca26\"],[1.0,\"#f0f921\"]],\"diverging\":[[0,\"#8e0152\"],[0.1,\"#c51b7d\"],[0.2,\"#de77ae\"],[0.3,\"#f1b6da\"],[0.4,\"#fde0ef\"],[0.5,\"#f7f7f7\"],[0.6,\"#e6f5d0\"],[0.7,\"#b8e186\"],[0.8,\"#7fbc41\"],[0.9,\"#4d9221\"],[1,\"#276419\"]]},\"xaxis\":{\"gridcolor\":\"white\",\"linecolor\":\"white\",\"ticks\":\"\",\"title\":{\"standoff\":15},\"zerolinecolor\":\"white\",\"automargin\":true,\"zerolinewidth\":2},\"yaxis\":{\"gridcolor\":\"white\",\"linecolor\":\"white\",\"ticks\":\"\",\"title\":{\"standoff\":15},\"zerolinecolor\":\"white\",\"automargin\":true,\"zerolinewidth\":2},\"scene\":{\"xaxis\":{\"backgroundcolor\":\"#E5ECF6\",\"gridcolor\":\"white\",\"linecolor\":\"white\",\"showbackground\":true,\"ticks\":\"\",\"zerolinecolor\":\"white\",\"gridwidth\":2},\"yaxis\":{\"backgroundcolor\":\"#E5ECF6\",\"gridcolor\":\"white\",\"linecolor\":\"white\",\"showbackground\":true,\"ticks\":\"\",\"zerolinecolor\":\"white\",\"gridwidth\":2},\"zaxis\":{\"backgroundcolor\":\"#E5ECF6\",\"gridcolor\":\"white\",\"linecolor\":\"white\",\"showbackground\":true,\"ticks\":\"\",\"zerolinecolor\":\"white\",\"gridwidth\":2}},\"shapedefaults\":{\"line\":{\"color\":\"#2a3f5f\"}},\"annotationdefaults\":{\"arrowcolor\":\"#2a3f5f\",\"arrowhead\":0,\"arrowwidth\":1},\"geo\":{\"bgcolor\":\"white\",\"landcolor\":\"#E5ECF6\",\"subunitcolor\":\"white\",\"showland\":true,\"showlakes\":true,\"lakecolor\":\"white\"},\"title\":{\"x\":0.05},\"mapbox\":{\"style\":\"light\"}}},\"xaxis\":{\"anchor\":\"y\",\"domain\":[0.0,1.0],\"title\":{\"text\":\"G\\u00e9nero\"},\"categoryorder\":\"array\",\"categoryarray\":[\"Masculino\",\"Femenino\"]},\"yaxis\":{\"anchor\":\"x\",\"domain\":[0.0,1.0],\"title\":{\"text\":\"Cantidad\"}},\"legend\":{\"title\":{\"text\":\"G\\u00e9nero\"},\"tracegroupgap\":0},\"title\":{\"text\":\"Recuento por G\\u00e9nero en el Per\\u00edodo 2024-01\"},\"barmode\":\"relative\",\"width\":600,\"height\":470},                        {\"responsive\": true}                    ).then(function(){\n",
              "                            \n",
              "var gd = document.getElementById('df3b084f-b022-4d9a-9d49-425b6b6388e9');\n",
              "var x = new MutationObserver(function (mutations, observer) {{\n",
              "        var display = window.getComputedStyle(gd).display;\n",
              "        if (!display || display === 'none') {{\n",
              "            console.log([gd, 'removed!']);\n",
              "            Plotly.purge(gd);\n",
              "            observer.disconnect();\n",
              "        }}\n",
              "}});\n",
              "\n",
              "// Listen for the removal of the full notebook cells\n",
              "var notebookContainer = gd.closest('#notebook-container');\n",
              "if (notebookContainer) {{\n",
              "    x.observe(notebookContainer, {childList: true});\n",
              "}}\n",
              "\n",
              "// Listen for the clearing of the current output cell\n",
              "var outputEl = gd.closest('.output');\n",
              "if (outputEl) {{\n",
              "    x.observe(outputEl, {childList: true});\n",
              "}}\n",
              "\n",
              "                        })                };                            </script>        </div>\n",
              "</body>\n",
              "</html>"
            ]
          },
          "metadata": {}
        }
      ]
    },
    {
      "cell_type": "code",
      "source": [
        "import seaborn as sns\n",
        "import matplotlib.pyplot as plt\n",
        "import pandas as pd\n",
        "\n",
        "# Calcular totales por género directamente en el DataFrame\n",
        "data_calificaciones = pd.DataFrame({\n",
        "    'Género': ['Masculino', 'Femenino', 'Masculino', 'Femenino'],\n",
        "    'Calificación': ['NS', 'NS', 'SP', 'SP'],\n",
        "    'Cantidad': [cantidad_hombres_NS, cantidad_mujeres_NS, cantidad_hombres_SP, cantidad_mujeres_SP],\n",
        "    'Total': [cantidad_hombres_NS + cantidad_hombres_SP, cantidad_mujeres_NS + cantidad_mujeres_SP,\n",
        "              cantidad_hombres_NS + cantidad_hombres_SP, cantidad_mujeres_NS + cantidad_mujeres_SP]\n",
        "})\n",
        "\n",
        "# Crear el gráfico de barras\n",
        "plt.figure(figsize=(8, 6))\n",
        "ax = sns.barplot(data=data_calificaciones, x='Género', y='Cantidad', hue='Calificación', palette='pastel')\n",
        "\n",
        "# Agregar etiquetas de totales en las barras\n",
        "for p in ax.patches:\n",
        "    height = p.get_height()\n",
        "    total = data_calificaciones.loc[data_calificaciones['Cantidad'] == height, 'Total'].values[0]\n",
        "    ax.annotate(f'{height}\\n({total})',\n",
        "                xy=(p.get_x() + p.get_width() / 2, height),\n",
        "                xytext=(0, 5),\n",
        "                textcoords='offset points',\n",
        "                ha='center',\n",
        "                fontsize=8)\n",
        "\n",
        "plt.title('Cantidad de Hombres y Mujeres con Calificaciones NS y SP')\n",
        "plt.xlabel('Género')\n",
        "plt.ylabel('Cantidad')\n",
        "plt.legend(title='Calificación')\n",
        "plt.show()\n"
      ],
      "metadata": {
        "colab": {
          "base_uri": "https://localhost:8080/",
          "height": 564
        },
        "id": "4yFtaFEBLCQL",
        "outputId": "85c8e50b-9de2-435d-a650-efc021dbf2f6"
      },
      "execution_count": null,
      "outputs": [
        {
          "output_type": "display_data",
          "data": {
            "text/plain": [
              "<Figure size 800x600 with 1 Axes>"
            ],
            "image/png": "[encoded data removed]"
          },
          "metadata": {}
        }
      ]
    },
    {
      "cell_type": "code",
      "source": [
        "print(notas_t['CALIFICACIÓN'].unique())"
      ],
      "metadata": {
        "id": "irz4VLAaz3Dm",
        "colab": {
          "base_uri": "https://localhost:8080/"
        },
        "outputId": "c05ce46b-54c8-4d49-e4b8-456e9e523af0"
      },
      "execution_count": null,
      "outputs": [
        {
          "output_type": "stream",
          "name": "stdout",
          "text": [
            "['SP' 'NS' 'PF' 'IN' nan]\n"
          ]
        }
      ]
    },
    {
      "cell_type": "code",
      "source": [
        "notas_t.columns"
      ],
      "metadata": {
        "id": "XvjDBdfExP4u",
        "colab": {
          "base_uri": "https://localhost:8080/"
        },
        "outputId": "867caaeb-cb2f-4d84-d4ce-eaaec47a7e1d"
      },
      "execution_count": null,
      "outputs": [
        {
          "output_type": "execute_result",
          "data": {
            "text/plain": [
              "Index(['PLAN 4064', 'PERIODO', 'CARRERA', 'DEPARTAMENTO_DEDICACION', 'CÓDIGO',\n",
              "       'ASIGNATURA', 'CRÉDITOS TEÓRICOS', 'PREREQUISITO1_COD',\n",
              "       'PREREQUISITO1_ASIGNATURA', 'NOTA DEFINITIVA PREREQUISITO 1',\n",
              "       'PREREQUISITO2_COD', 'PREREQUISITO2_ASIGNATURA',\n",
              "       'NOTA DEFINITIVA PREREQUISITO 2', 'GRUPO', 'DESCRIPCIÓN',\n",
              "       'DEPARTAMENTO PROFESOR', 'DOCUMENTO DOCENTE', 'PRIMER APELLIDO DOCENTE',\n",
              "       'SEGUNDO APELLIDO DOCENTE', 'NOMBRE DOCENTE', 'DOCUMENTO ESTUDIANTE',\n",
              "       'PRIMER APELLIDO', 'SEGUNDO APELLIDO', 'NOMBRE', 'GÉNERO', 'NIVEL',\n",
              "       'TIPO INGRESO', 'SUBACCESO', 'NOTAS PRIMER CORTE',\n",
              "       'FALLAS PRIMER CORTE', 'NOTAS SEGUNDO CORTE', 'FALLAS SEGUNDO CORTE',\n",
              "       'PROMEDIO PARCIAL', 'NOTAS EXAMEN', 'FALLAS EXAMEN', 'DEFINITIVA',\n",
              "       'CALIFICACIÓN', 'PORCENTAJE FALLAS', 'PERDIDA FALLAS',\n",
              "       'ASIGNATURA ANULADA', 'PROMEDIO SEMESTRAL', 'PROMEDIO ACUMULADO'],\n",
              "      dtype='object')"
            ]
          },
          "metadata": {},
          "execution_count": 82
        }
      ]
    },
    {
      "cell_type": "code",
      "source": [
        "datos1 = notas_t.copy()\n",
        "datos1 = datos1[datos1['PLAN 4064'] == 'SI']\n",
        "\n",
        "datos1['CALIFICACIÓN'].replace({'PF': 'NS', 'IN':'NS' }, inplace=True)\n",
        "\n",
        "datos1['CALIFICACIÓN'].fillna('NS', inplace=True)\n",
        "\n",
        "datos1['CALIFICACIÓN'].replace({'NS': 0, 'SP': 1}, inplace=True)\n",
        "\n",
        "datos1['APROBARON'] = datos1['CALIFICACIÓN'].apply(lambda x: 1 if x == 'SP' else 0)\n",
        "\n",
        "datos1['NO_APROBARON'] = datos1['CALIFICACIÓN'].apply(lambda x: 1 if x == 'NS' else 0)\n",
        "\n",
        "datos1['TOTAL_MATRICULADOS'] = datos1.groupby(['DOCUMENTO ESTUDIANTE', 'CÓDIGO'])['PERIODO'].transform('count')\n",
        "\n",
        "\n",
        "\n",
        "columns_to_drop = ['DEPARTAMENTO_DEDICACION', 'CRÉDITOS TEÓRICOS', 'PREREQUISITO1_COD', 'PREREQUISITO1_ASIGNATURA',\n",
        "                   'PREREQUISITO2_COD', 'PREREQUISITO2_ASIGNATURA', 'GRUPO', 'DESCRIPCIÓN', 'DEPARTAMENTO PROFESOR',\n",
        "                   'DOCUMENTO DOCENTE', 'PRIMER APELLIDO DOCENTE', 'SEGUNDO APELLIDO DOCENTE', 'NOMBRE DOCENTE',\n",
        "                   'PRIMER APELLIDO', 'SEGUNDO APELLIDO', 'NOMBRE', 'GÉNERO', 'NIVEL', 'TIPO INGRESO', 'SUBACCESO',\n",
        "                   'FALLAS PRIMER CORTE', 'NOTAS SEGUNDO CORTE', 'FALLAS SEGUNDO CORTE',\n",
        "                   'NOTAS EXAMEN', 'FALLAS EXAMEN', 'PORCENTAJE FALLAS', 'PERDIDA FALLAS']\n",
        "\n",
        "datos1 = datos1.drop(columns=columns_to_drop)\n",
        "\n",
        "\n",
        "datos1.head(5)\n"
      ],
      "metadata": {
        "id": "4y2C0yZvKFyE",
        "colab": {
          "base_uri": "https://localhost:8080/",
          "height": 311
        },
        "outputId": "73e6716a-9ba8-4c59-c131-5d8a96353ce8"
      },
      "execution_count": null,
      "outputs": [
        {
          "output_type": "execute_result",
          "data": {
            "text/plain": [
              "  PLAN 4064  PERIODO                 CARRERA    CÓDIGO  \\\n",
              "0        SI  2014-01  INGENIERÍA DE SISTEMAS  40050168   \n",
              "1        SI  2014-01  INGENIERÍA DE SISTEMAS  40050168   \n",
              "2        SI  2014-01  INGENIERÍA DE SISTEMAS  40050168   \n",
              "3        SI  2014-01  INGENIERÍA DE SISTEMAS  40050168   \n",
              "4        SI  2014-01  INGENIERÍA DE SISTEMAS  40050168   \n",
              "\n",
              "                ASIGNATURA  NOTA DEFINITIVA PREREQUISITO 1  \\\n",
              "0  INTELIGENCIA ARTIFICIAL                             NaN   \n",
              "1  INTELIGENCIA ARTIFICIAL                             NaN   \n",
              "2  INTELIGENCIA ARTIFICIAL                             NaN   \n",
              "3  INTELIGENCIA ARTIFICIAL                             NaN   \n",
              "4  INTELIGENCIA ARTIFICIAL                             NaN   \n",
              "\n",
              "   NOTA DEFINITIVA PREREQUISITO 2  DOCUMENTO ESTUDIANTE  NOTAS PRIMER CORTE  \\\n",
              "0                             NaN            1016014851                 3.5   \n",
              "1                             NaN            1026289722                 2.0   \n",
              "2                             NaN            1022327856                 2.0   \n",
              "3                             NaN            1010205208                 3.5   \n",
              "4                             NaN            1022385102                 4.0   \n",
              "\n",
              "   PROMEDIO PARCIAL  DEFINITIVA  CALIFICACIÓN ASIGNATURA ANULADA  \\\n",
              "0               3.5         3.7             1                  N   \n",
              "1               3.0         3.8             1                  N   \n",
              "2               2.5         2.1             0                  N   \n",
              "3               3.0         3.0             1                  N   \n",
              "4               4.0         3.6             1                  N   \n",
              "\n",
              "   PROMEDIO SEMESTRAL  PROMEDIO ACUMULADO  APROBARON  NO_APROBARON  \\\n",
              "0                3.69                3.71          0             0   \n",
              "1                4.05                3.49          0             0   \n",
              "2                3.20                3.47          0             0   \n",
              "3                4.00                3.54          0             0   \n",
              "4                4.08                3.77          0             0   \n",
              "\n",
              "   TOTAL_MATRICULADOS  \n",
              "0                   1  \n",
              "1                   1  \n",
              "2                   2  \n",
              "3                   1  \n",
              "4                   1  "
            ],
            "text/html": [
              "\n",
              "  <div id=\"df-9f7ec134-c276-4074-83de-8cb5ef805558\" class=\"colab-df-container\">\n",
              "    <div>\n",
              "<style scoped>\n",
              "    .dataframe tbody tr th:only-of-type {\n",
              "        vertical-align: middle;\n",
              "    }\n",
              "\n",
              "    .dataframe tbody tr th {\n",
              "        vertical-align: top;\n",
              "    }\n",
              "\n",
              "    .dataframe thead th {\n",
              "        text-align: right;\n",
              "    }\n",
              "</style>\n",
              "<table border=\"1\" class=\"dataframe\">\n",
              "  <thead>\n",
              "    <tr style=\"text-align: right;\">\n",
              "      <th></th>\n",
              "      <th>PLAN 4064</th>\n",
              "      <th>PERIODO</th>\n",
              "      <th>CARRERA</th>\n",
              "      <th>CÓDIGO</th>\n",
              "      <th>ASIGNATURA</th>\n",
              "      <th>NOTA DEFINITIVA PREREQUISITO 1</th>\n",
              "      <th>NOTA DEFINITIVA PREREQUISITO 2</th>\n",
              "      <th>DOCUMENTO ESTUDIANTE</th>\n",
              "      <th>NOTAS PRIMER CORTE</th>\n",
              "      <th>PROMEDIO PARCIAL</th>\n",
              "      <th>DEFINITIVA</th>\n",
              "      <th>CALIFICACIÓN</th>\n",
              "      <th>ASIGNATURA ANULADA</th>\n",
              "      <th>PROMEDIO SEMESTRAL</th>\n",
              "      <th>PROMEDIO ACUMULADO</th>\n",
              "      <th>APROBARON</th>\n",
              "      <th>NO_APROBARON</th>\n",
              "      <th>TOTAL_MATRICULADOS</th>\n",
              "    </tr>\n",
              "  </thead>\n",
              "  <tbody>\n",
              "    <tr>\n",
              "      <th>0</th>\n",
              "      <td>SI</td>\n",
              "      <td>2014-01</td>\n",
              "      <td>INGENIERÍA DE SISTEMAS</td>\n",
              "      <td>40050168</td>\n",
              "      <td>INTELIGENCIA ARTIFICIAL</td>\n",
              "      <td>NaN</td>\n",
              "      <td>NaN</td>\n",
              "      <td>1016014851</td>\n",
              "      <td>3.5</td>\n",
              "      <td>3.5</td>\n",
              "      <td>3.7</td>\n",
              "      <td>1</td>\n",
              "      <td>N</td>\n",
              "      <td>3.69</td>\n",
              "      <td>3.71</td>\n",
              "      <td>0</td>\n",
              "      <td>0</td>\n",
              "      <td>1</td>\n",
              "    </tr>\n",
              "    <tr>\n",
              "      <th>1</th>\n",
              "      <td>SI</td>\n",
              "      <td>2014-01</td>\n",
              "      <td>INGENIERÍA DE SISTEMAS</td>\n",
              "      <td>40050168</td>\n",
              "      <td>INTELIGENCIA ARTIFICIAL</td>\n",
              "      <td>NaN</td>\n",
              "      <td>NaN</td>\n",
              "      <td>1026289722</td>\n",
              "      <td>2.0</td>\n",
              "      <td>3.0</td>\n",
              "      <td>3.8</td>\n",
              "      <td>1</td>\n",
              "      <td>N</td>\n",
              "      <td>4.05</td>\n",
              "      <td>3.49</td>\n",
              "      <td>0</td>\n",
              "      <td>0</td>\n",
              "      <td>1</td>\n",
              "    </tr>\n",
              "    <tr>\n",
              "      <th>2</th>\n",
              "      <td>SI</td>\n",
              "      <td>2014-01</td>\n",
              "      <td>INGENIERÍA DE SISTEMAS</td>\n",
              "      <td>40050168</td>\n",
              "      <td>INTELIGENCIA ARTIFICIAL</td>\n",
              "      <td>NaN</td>\n",
              "      <td>NaN</td>\n",
              "      <td>1022327856</td>\n",
              "      <td>2.0</td>\n",
              "      <td>2.5</td>\n",
              "      <td>2.1</td>\n",
              "      <td>0</td>\n",
              "      <td>N</td>\n",
              "      <td>3.20</td>\n",
              "      <td>3.47</td>\n",
              "      <td>0</td>\n",
              "      <td>0</td>\n",
              "      <td>2</td>\n",
              "    </tr>\n",
              "    <tr>\n",
              "      <th>3</th>\n",
              "      <td>SI</td>\n",
              "      <td>2014-01</td>\n",
              "      <td>INGENIERÍA DE SISTEMAS</td>\n",
              "      <td>40050168</td>\n",
              "      <td>INTELIGENCIA ARTIFICIAL</td>\n",
              "      <td>NaN</td>\n",
              "      <td>NaN</td>\n",
              "      <td>1010205208</td>\n",
              "      <td>3.5</td>\n",
              "      <td>3.0</td>\n",
              "      <td>3.0</td>\n",
              "      <td>1</td>\n",
              "      <td>N</td>\n",
              "      <td>4.00</td>\n",
              "      <td>3.54</td>\n",
              "      <td>0</td>\n",
              "      <td>0</td>\n",
              "      <td>1</td>\n",
              "    </tr>\n",
              "    <tr>\n",
              "      <th>4</th>\n",
              "      <td>SI</td>\n",
              "      <td>2014-01</td>\n",
              "      <td>INGENIERÍA DE SISTEMAS</td>\n",
              "      <td>40050168</td>\n",
              "      <td>INTELIGENCIA ARTIFICIAL</td>\n",
              "      <td>NaN</td>\n",
              "      <td>NaN</td>\n",
              "      <td>1022385102</td>\n",
              "      <td>4.0</td>\n",
              "      <td>4.0</td>\n",
              "      <td>3.6</td>\n",
              "      <td>1</td>\n",
              "      <td>N</td>\n",
              "      <td>4.08</td>\n",
              "      <td>3.77</td>\n",
              "      <td>0</td>\n",
              "      <td>0</td>\n",
              "      <td>1</td>\n",
              "    </tr>\n",
              "  </tbody>\n",
              "</table>\n",
              "</div>\n",
              "    <div class=\"colab-df-buttons\">\n",
              "\n",
              "  <div class=\"colab-df-container\">\n",
              "    <button class=\"colab-df-convert\" onclick=\"convertToInteractive('df-9f7ec134-c276-4074-83de-8cb5ef805558')\"\n",
              "            title=\"Convert this dataframe to an interactive table.\"\n",
              "            style=\"display:none;\">\n",
              "\n",
              "  <svg xmlns=\"http://www.w3.org/2000/svg\" height=\"24px\" viewBox=\"0 -960 960 960\">\n",
              "    <path d=\"M120-120v-720h720v720H120Zm60-500h600v-160H180v160Zm220 220h160v-160H400v160Zm0 220h160v-160H400v160ZM180-400h160v-160H180v160Zm440 0h160v-160H620v160ZM180-180h160v-160H180v160Zm440 0h160v-160H620v160Z\"/>\n",
              "  </svg>\n",
              "    </button>\n",
              "\n",
              "  <style>\n",
              "    .colab-df-container {\n",
              "      display:flex;\n",
              "      gap: 12px;\n",
              "    }\n",
              "\n",
              "    .colab-df-convert {\n",
              "      background-color: #E8F0FE;\n",
              "      border: none;\n",
              "      border-radius: 50%;\n",
              "      cursor: pointer;\n",
              "      display: none;\n",
              "      fill: #1967D2;\n",
              "      height: 32px;\n",
              "      padding: 0 0 0 0;\n",
              "      width: 32px;\n",
              "    }\n",
              "\n",
              "    .colab-df-convert:hover {\n",
              "      background-color: #E2EBFA;\n",
              "      box-shadow: 0px 1px 2px rgba(60, 64, 67, 0.3), 0px 1px 3px 1px rgba(60, 64, 67, 0.15);\n",
              "      fill: #174EA6;\n",
              "    }\n",
              "\n",
              "    .colab-df-buttons div {\n",
              "      margin-bottom: 4px;\n",
              "    }\n",
              "\n",
              "    [theme=dark] .colab-df-convert {\n",
              "      background-color: #3B4455;\n",
              "      fill: #D2E3FC;\n",
              "    }\n",
              "\n",
              "    [theme=dark] .colab-df-convert:hover {\n",
              "      background-color: #434B5C;\n",
              "      box-shadow: 0px 1px 3px 1px rgba(0, 0, 0, 0.15);\n",
              "      filter: drop-shadow(0px 1px 2px rgba(0, 0, 0, 0.3));\n",
              "      fill: #FFFFFF;\n",
              "    }\n",
              "  </style>\n",
              "\n",
              "    <script>\n",
              "      const buttonEl =\n",
              "        document.querySelector('#df-9f7ec134-c276-4074-83de-8cb5ef805558 button.colab-df-convert');\n",
              "      buttonEl.style.display =\n",
              "        google.colab.kernel.accessAllowed ? 'block' : 'none';\n",
              "\n",
              "      async function convertToInteractive(key) {\n",
              "        const element = document.querySelector('#df-9f7ec134-c276-4074-83de-8cb5ef805558');\n",
              "        const dataTable =\n",
              "          await google.colab.kernel.invokeFunction('convertToInteractive',\n",
              "                                                    [key], {});\n",
              "        if (!dataTable) return;\n",
              "\n",
              "        const docLinkHtml = 'Like what you see? Visit the ' +\n",
              "          '<a target=\"_blank\" href=https://colab.research.google.com/notebooks/data_table.ipynb>data table notebook</a>'\n",
              "          + ' to learn more about interactive tables.';\n",
              "        element.innerHTML = '';\n",
              "        dataTable['output_type'] = 'display_data';\n",
              "        await google.colab.output.renderOutput(dataTable, element);\n",
              "        const docLink = document.createElement('div');\n",
              "        docLink.innerHTML = docLinkHtml;\n",
              "        element.appendChild(docLink);\n",
              "      }\n",
              "    </script>\n",
              "  </div>\n",
              "\n",
              "\n",
              "<div id=\"df-235ec9e3-41ec-4db1-8d8e-d1b63aaa0f89\">\n",
              "  <button class=\"colab-df-quickchart\" onclick=\"quickchart('df-235ec9e3-41ec-4db1-8d8e-d1b63aaa0f89')\"\n",
              "            title=\"Suggest charts\"\n",
              "            style=\"display:none;\">\n",
              "\n",
              "<svg xmlns=\"http://www.w3.org/2000/svg\" height=\"24px\"viewBox=\"0 0 24 24\"\n",
              "     width=\"24px\">\n",
              "    <g>\n",
              "        <path d=\"M19 3H5c-1.1 0-2 .9-2 2v14c0 1.1.9 2 2 2h14c1.1 0 2-.9 2-2V5c0-1.1-.9-2-2-2zM9 17H7v-7h2v7zm4 0h-2V7h2v10zm4 0h-2v-4h2v4z\"/>\n",
              "    </g>\n",
              "</svg>\n",
              "  </button>\n",
              "\n",
              "<style>\n",
              "  .colab-df-quickchart {\n",
              "      --bg-color: #E8F0FE;\n",
              "      --fill-color: #1967D2;\n",
              "      --hover-bg-color: #E2EBFA;\n",
              "      --hover-fill-color: #174EA6;\n",
              "      --disabled-fill-color: #AAA;\n",
              "      --disabled-bg-color: #DDD;\n",
              "  }\n",
              "\n",
              "  [theme=dark] .colab-df-quickchart {\n",
              "      --bg-color: #3B4455;\n",
              "      --fill-color: #D2E3FC;\n",
              "      --hover-bg-color: #434B5C;\n",
              "      --hover-fill-color: #FFFFFF;\n",
              "      --disabled-bg-color: #3B4455;\n",
              "      --disabled-fill-color: #666;\n",
              "  }\n",
              "\n",
              "  .colab-df-quickchart {\n",
              "    background-color: var(--bg-color);\n",
              "    border: none;\n",
              "    border-radius: 50%;\n",
              "    cursor: pointer;\n",
              "    display: none;\n",
              "    fill: var(--fill-color);\n",
              "    height: 32px;\n",
              "    padding: 0;\n",
              "    width: 32px;\n",
              "  }\n",
              "\n",
              "  .colab-df-quickchart:hover {\n",
              "    background-color: var(--hover-bg-color);\n",
              "    box-shadow: 0 1px 2px rgba(60, 64, 67, 0.3), 0 1px 3px 1px rgba(60, 64, 67, 0.15);\n",
              "    fill: var(--button-hover-fill-color);\n",
              "  }\n",
              "\n",
              "  .colab-df-quickchart-complete:disabled,\n",
              "  .colab-df-quickchart-complete:disabled:hover {\n",
              "    background-color: var(--disabled-bg-color);\n",
              "    fill: var(--disabled-fill-color);\n",
              "    box-shadow: none;\n",
              "  }\n",
              "\n",
              "  .colab-df-spinner {\n",
              "    border: 2px solid var(--fill-color);\n",
              "    border-color: transparent;\n",
              "    border-bottom-color: var(--fill-color);\n",
              "    animation:\n",
              "      spin 1s steps(1) infinite;\n",
              "  }\n",
              "\n",
              "  @keyframes spin {\n",
              "    0% {\n",
              "      border-color: transparent;\n",
              "      border-bottom-color: var(--fill-color);\n",
              "      border-left-color: var(--fill-color);\n",
              "    }\n",
              "    20% {\n",
              "      border-color: transparent;\n",
              "      border-left-color: var(--fill-color);\n",
              "      border-top-color: var(--fill-color);\n",
              "    }\n",
              "    30% {\n",
              "      border-color: transparent;\n",
              "      border-left-color: var(--fill-color);\n",
              "      border-top-color: var(--fill-color);\n",
              "      border-right-color: var(--fill-color);\n",
              "    }\n",
              "    40% {\n",
              "      border-color: transparent;\n",
              "      border-right-color: var(--fill-color);\n",
              "      border-top-color: var(--fill-color);\n",
              "    }\n",
              "    60% {\n",
              "      border-color: transparent;\n",
              "      border-right-color: var(--fill-color);\n",
              "    }\n",
              "    80% {\n",
              "      border-color: transparent;\n",
              "      border-right-color: var(--fill-color);\n",
              "      border-bottom-color: var(--fill-color);\n",
              "    }\n",
              "    90% {\n",
              "      border-color: transparent;\n",
              "      border-bottom-color: var(--fill-color);\n",
              "    }\n",
              "  }\n",
              "</style>\n",
              "\n",
              "  <script>\n",
              "    async function quickchart(key) {\n",
              "      const quickchartButtonEl =\n",
              "        document.querySelector('#' + key + ' button');\n",
              "      quickchartButtonEl.disabled = true;  // To prevent multiple clicks.\n",
              "      quickchartButtonEl.classList.add('colab-df-spinner');\n",
              "      try {\n",
              "        const charts = await google.colab.kernel.invokeFunction(\n",
              "            'suggestCharts', [key], {});\n",
              "      } catch (error) {\n",
              "        console.error('Error during call to suggestCharts:', error);\n",
              "      }\n",
              "      quickchartButtonEl.classList.remove('colab-df-spinner');\n",
              "      quickchartButtonEl.classList.add('colab-df-quickchart-complete');\n",
              "    }\n",
              "    (() => {\n",
              "      let quickchartButtonEl =\n",
              "        document.querySelector('#df-235ec9e3-41ec-4db1-8d8e-d1b63aaa0f89 button');\n",
              "      quickchartButtonEl.style.display =\n",
              "        google.colab.kernel.accessAllowed ? 'block' : 'none';\n",
              "    })();\n",
              "  </script>\n",
              "</div>\n",
              "    </div>\n",
              "  </div>\n"
            ],
            "application/vnd.google.colaboratory.intrinsic+json": {
              "type": "dataframe",
              "variable_name": "datos1",
              "summary": "{\n  \"name\": \"datos1\",\n  \"rows\": 10425,\n  \"fields\": [\n    {\n      \"column\": \"PLAN 4064\",\n      \"properties\": {\n        \"dtype\": \"category\",\n        \"num_unique_values\": 1,\n        \"samples\": [\n          \"SI\"\n        ],\n        \"semantic_type\": \"\",\n        \"description\": \"\"\n      }\n    },\n    {\n      \"column\": \"PERIODO\",\n      \"properties\": {\n        \"dtype\": \"object\",\n        \"num_unique_values\": 21,\n        \"samples\": [\n          \"2014-01\"\n        ],\n        \"semantic_type\": \"\",\n        \"description\": \"\"\n      }\n    },\n    {\n      \"column\": \"CARRERA\",\n      \"properties\": {\n        \"dtype\": \"category\",\n        \"num_unique_values\": 1,\n        \"samples\": [\n          \"INGENIER\\u00cdA DE SISTEMAS\"\n        ],\n        \"semantic_type\": \"\",\n        \"description\": \"\"\n      }\n    },\n    {\n      \"column\": \"C\\u00d3DIGO\",\n      \"properties\": {\n        \"dtype\": \"number\",\n        \"std\": 801957,\n        \"min\": 40050168,\n        \"max\": 43390899,\n        \"num_unique_values\": 24,\n        \"samples\": [\n          43390848\n        ],\n        \"semantic_type\": \"\",\n        \"description\": \"\"\n      }\n    },\n    {\n      \"column\": \"ASIGNATURA\",\n      \"properties\": {\n        \"dtype\": \"category\",\n        \"num_unique_values\": 29,\n        \"samples\": [\n          \"PR\\u00c1CTICA DE INGENIER\\u00cdA IV\"\n        ],\n        \"semantic_type\": \"\",\n        \"description\": \"\"\n      }\n    },\n    {\n      \"column\": \"NOTA DEFINITIVA PREREQUISITO 1\",\n      \"properties\": {\n        \"dtype\": \"number\",\n        \"std\": 0.8221082108664147,\n        \"min\": 0.0,\n        \"max\": 5.0,\n        \"num_unique_values\": 350,\n        \"samples\": [\n          3.86\n        ],\n        \"semantic_type\": \"\",\n        \"description\": \"\"\n      }\n    },\n    {\n      \"column\": \"NOTA DEFINITIVA PREREQUISITO 2\",\n      \"properties\": {\n        \"dtype\": \"number\",\n        \"std\": 0.7547543520699329,\n        \"min\": 0.0,\n        \"max\": 5.0,\n        \"num_unique_values\": 307,\n        \"samples\": [\n          3.56\n        ],\n        \"semantic_type\": \"\",\n        \"description\": \"\"\n      }\n    },\n    {\n      \"column\": \"DOCUMENTO ESTUDIANTE\",\n      \"properties\": {\n        \"dtype\": \"number\",\n        \"std\": 142740498,\n        \"min\": 1082258,\n        \"max\": 1233912418,\n        \"num_unique_values\": 1357,\n        \"samples\": [\n          1014219107\n        ],\n        \"semantic_type\": \"\",\n        \"description\": \"\"\n      }\n    },\n    {\n      \"column\": \"NOTAS PRIMER CORTE\",\n      \"properties\": {\n        \"dtype\": \"number\",\n        \"std\": 0.868753232827226,\n        \"min\": 0.0,\n        \"max\": 5.0,\n        \"num_unique_values\": 50,\n        \"samples\": [\n          3.6\n        ],\n        \"semantic_type\": \"\",\n        \"description\": \"\"\n      }\n    },\n    {\n      \"column\": \"PROMEDIO PARCIAL\",\n      \"properties\": {\n        \"dtype\": \"number\",\n        \"std\": 1.6781506347147988,\n        \"min\": 0.0,\n        \"max\": 5.0,\n        \"num_unique_values\": 98,\n        \"samples\": [\n          1.7\n        ],\n        \"semantic_type\": \"\",\n        \"description\": \"\"\n      }\n    },\n    {\n      \"column\": \"DEFINITIVA\",\n      \"properties\": {\n        \"dtype\": \"number\",\n        \"std\": 0.7754588262029017,\n        \"min\": 0.0,\n        \"max\": 5.0,\n        \"num_unique_values\": 390,\n        \"samples\": [\n          1.3\n        ],\n        \"semantic_type\": \"\",\n        \"description\": \"\"\n      }\n    },\n    {\n      \"column\": \"CALIFICACI\\u00d3N\",\n      \"properties\": {\n        \"dtype\": \"number\",\n        \"std\": 0,\n        \"min\": 0,\n        \"max\": 1,\n        \"num_unique_values\": 2,\n        \"samples\": [\n          0\n        ],\n        \"semantic_type\": \"\",\n        \"description\": \"\"\n      }\n    },\n    {\n      \"column\": \"ASIGNATURA ANULADA\",\n      \"properties\": {\n        \"dtype\": \"category\",\n        \"num_unique_values\": 2,\n        \"samples\": [\n          \"S\"\n        ],\n        \"semantic_type\": \"\",\n        \"description\": \"\"\n      }\n    },\n    {\n      \"column\": \"PROMEDIO SEMESTRAL\",\n      \"properties\": {\n        \"dtype\": \"number\",\n        \"std\": 0.639709168833522,\n        \"min\": 0.0,\n        \"max\": 5.0,\n        \"num_unique_values\": 306,\n        \"samples\": [\n          4.51\n        ],\n        \"semantic_type\": \"\",\n        \"description\": \"\"\n      }\n    },\n    {\n      \"column\": \"PROMEDIO ACUMULADO\",\n      \"properties\": {\n        \"dtype\": \"number\",\n        \"std\": 0.3627013057082191,\n        \"min\": 1.47,\n        \"max\": 4.97,\n        \"num_unique_values\": 214,\n        \"samples\": [\n          3.93\n        ],\n        \"semantic_type\": \"\",\n        \"description\": \"\"\n      }\n    },\n    {\n      \"column\": \"APROBARON\",\n      \"properties\": {\n        \"dtype\": \"number\",\n        \"std\": 0,\n        \"min\": 0,\n        \"max\": 0,\n        \"num_unique_values\": 1,\n        \"samples\": [\n          0\n        ],\n        \"semantic_type\": \"\",\n        \"description\": \"\"\n      }\n    },\n    {\n      \"column\": \"NO_APROBARON\",\n      \"properties\": {\n        \"dtype\": \"number\",\n        \"std\": 0,\n        \"min\": 0,\n        \"max\": 0,\n        \"num_unique_values\": 1,\n        \"samples\": [\n          0\n        ],\n        \"semantic_type\": \"\",\n        \"description\": \"\"\n      }\n    },\n    {\n      \"column\": \"TOTAL_MATRICULADOS\",\n      \"properties\": {\n        \"dtype\": \"number\",\n        \"std\": 0,\n        \"min\": 1,\n        \"max\": 7,\n        \"num_unique_values\": 7,\n        \"samples\": [\n          1\n        ],\n        \"semantic_type\": \"\",\n        \"description\": \"\"\n      }\n    }\n  ]\n}"
            }
          },
          "metadata": {},
          "execution_count": 83
        }
      ]
    },
    {
      "cell_type": "code",
      "source": [
        "import pandas as pd\n",
        "\n",
        "# Supongamos que notas_t es tu DataFrame original y lo copias en datos1\n",
        "datos1 = notas_t.copy()\n",
        "\n",
        "# Filtrar los datos para incluir solo aquellos que pertenecen al plan '4064'\n",
        "datos1 = datos1[datos1['PLAN 4064'] == 'SI']\n",
        "\n",
        "# Normalizar la columna 'CALIFICACIÓN' para manejar valores no estándar y nulos\n",
        "datos1['CALIFICACIÓN'].replace({'PF': 'NS', 'IN': 'NS'}, inplace=True)\n",
        "datos1['CALIFICACIÓN'].fillna('NS', inplace=True)\n",
        "datos1['CALIFICACIÓN'].replace({'NS': 0, 'SP': 1}, inplace=True)\n",
        "datos1['APROBARON'] = datos1['CALIFICACIÓN'].apply(lambda x: 1 if x == 'SP' else 0)\n",
        "datos1['TOTAL_MATRICULADOS'] = datos1.groupby(['DOCUMENTO ESTUDIANTE', 'CÓDIGO'])['PERIODO'].transform('count')\n",
        "\n",
        "# Eliminar columnas que no necesitas\n",
        "columns_to_drop = ['DEPARTAMENTO_DEDICACION', 'CRÉDITOS TEÓRICOS', 'PREREQUISITO1_COD',\n",
        "                   'PREREQUISITO1_ASIGNATURA', 'PREREQUISITO2_COD', 'PREREQUISITO2_ASIGNATURA',\n",
        "                   'GRUPO', 'DESCRIPCIÓN', 'DEPARTAMENTO PROFESOR', 'DOCUMENTO DOCENTE',\n",
        "                   'PRIMER APELLIDO DOCENTE', 'SEGUNDO APELLIDO DOCENTE', 'NOMBRE DOCENTE',\n",
        "                   'PRIMER APELLIDO', 'SEGUNDO APELLIDO', 'NOMBRE', 'GÉNERO', 'NIVEL',\n",
        "                   'TIPO INGRESO', 'SUBACCESO', 'FALLAS PRIMER CORTE', 'NOTAS SEGUNDO CORTE',\n",
        "                   'FALLAS SEGUNDO CORTE', 'NOTAS EXAMEN', 'FALLAS EXAMEN', 'PORCENTAJE FALLAS',\n",
        "                   'PERDIDA FALLAS']\n",
        "datos1 = datos1.drop(columns=columns_to_drop)\n",
        "\n",
        "# Eliminar duplicados basados en 'DOCUMENTO ESTUDIANTE' y 'PERIODO'\n",
        "datos_unicos = datos1.drop_duplicates(subset=['DOCUMENTO ESTUDIANTE', 'PERIODO'])\n",
        "\n",
        "# Contar el número de estudiantes únicos por período\n",
        "conteo_por_periodo = datos_unicos.groupby('PERIODO').size()\n",
        "\n",
        "# Imprimir el resultado\n",
        "print(conteo_por_periodo)\n"
      ],
      "metadata": {
        "id": "NmI5oM3uKiGv",
        "colab": {
          "base_uri": "https://localhost:8080/"
        },
        "outputId": "ed7af2ca-c227-4334-9ae9-56ffeb3a1fb4"
      },
      "execution_count": null,
      "outputs": [
        {
          "output_type": "stream",
          "name": "stdout",
          "text": [
            "PERIODO\n",
            "2014-01     34\n",
            "2014-02     35\n",
            "2015-01     26\n",
            "2015-02     21\n",
            "2016-01     33\n",
            "2016-02      5\n",
            "2017-01     23\n",
            "2017-02      9\n",
            "2018-01     57\n",
            "2018-02    145\n",
            "2019-01    166\n",
            "2019-02    233\n",
            "2020-01    257\n",
            "2020-02    299\n",
            "2021-01    329\n",
            "2021-02    403\n",
            "2022-01    427\n",
            "2022-02    531\n",
            "2023-01    596\n",
            "2023-02    677\n",
            "2024-01    669\n",
            "dtype: int64\n"
          ]
        }
      ]
    },
    {
      "cell_type": "code",
      "source": [
        "datos1.dtypes"
      ],
      "metadata": {
        "id": "OGBoJBu6jJI3",
        "colab": {
          "base_uri": "https://localhost:8080/"
        },
        "outputId": "4b48f1aa-50c6-4ead-91df-085acce2eff4"
      },
      "execution_count": null,
      "outputs": [
        {
          "output_type": "execute_result",
          "data": {
            "text/plain": [
              "PLAN 4064                          object\n",
              "PERIODO                            object\n",
              "CARRERA                            object\n",
              "CÓDIGO                              int64\n",
              "ASIGNATURA                         object\n",
              "NOTA DEFINITIVA PREREQUISITO 1    float64\n",
              "NOTA DEFINITIVA PREREQUISITO 2    float64\n",
              "DOCUMENTO ESTUDIANTE                int64\n",
              "NOTAS PRIMER CORTE                float64\n",
              "PROMEDIO PARCIAL                  float64\n",
              "DEFINITIVA                        float64\n",
              "CALIFICACIÓN                        int64\n",
              "ASIGNATURA ANULADA                 object\n",
              "PROMEDIO SEMESTRAL                float64\n",
              "PROMEDIO ACUMULADO                float64\n",
              "APROBARON                           int64\n",
              "NO_APROBARON                        int64\n",
              "TOTAL_MATRICULADOS                  int64\n",
              "dtype: object"
            ]
          },
          "metadata": {},
          "execution_count": 84
        }
      ]
    },
    {
      "cell_type": "code",
      "source": [
        "tipos_de_datos = datos1.dtypes\n",
        "\n",
        "# Crea una lista de columnas cualitativas (categóricas) y cuantitativas (numéricas)\n",
        "columnas_cualitativas = tipos_de_datos[tipos_de_datos == 'object']\n",
        "columnas_cuantitativas = tipos_de_datos[tipos_de_datos != 'object']\n",
        "\n",
        "\n",
        "cantidad_cualitativas = len(columnas_cualitativas)\n",
        "cantidad_cuantitativas = len(columnas_cuantitativas)\n",
        "\n",
        "\n",
        "print(\"Columnas Cualitativas (Categóricas):\", cantidad_cualitativas)\n",
        "print(\"Columnas Cuantitativas (Numéricas):\", cantidad_cuantitativas)"
      ],
      "metadata": {
        "id": "cZ2IzFS-jV6e",
        "colab": {
          "base_uri": "https://localhost:8080/"
        },
        "outputId": "067d8f02-400d-4bfc-ae2a-b47896cedd08"
      },
      "execution_count": null,
      "outputs": [
        {
          "output_type": "stream",
          "name": "stdout",
          "text": [
            "Columnas Cualitativas (Categóricas): 5\n",
            "Columnas Cuantitativas (Numéricas): 13\n"
          ]
        }
      ]
    },
    {
      "cell_type": "code",
      "source": [
        "valores_periodo = datos1['PERIODO'].unique()\n",
        "\n",
        "# Muestra los valores únicos\n",
        "print(valores_periodo)"
      ],
      "metadata": {
        "id": "lpZVTq7XjgFZ",
        "colab": {
          "base_uri": "https://localhost:8080/"
        },
        "outputId": "041fda5d-2d5c-4a81-ead4-8407d9fe8cd4"
      },
      "execution_count": null,
      "outputs": [
        {
          "output_type": "stream",
          "name": "stdout",
          "text": [
            "['2014-01' '2014-02' '2015-01' '2015-02' '2016-01' '2016-02' '2017-01'\n",
            " '2017-02' '2018-01' '2018-02' '2019-01' '2019-02' '2020-01' '2020-02'\n",
            " '2021-01' '2021-02' '2022-01' '2022-02' '2023-01' '2023-02' '2024-01']\n"
          ]
        }
      ]
    },
    {
      "cell_type": "code",
      "source": [
        "datos1.shape"
      ],
      "metadata": {
        "id": "-K195mytsixX",
        "colab": {
          "base_uri": "https://localhost:8080/"
        },
        "outputId": "3bc55454-99ca-4bba-8de3-044921655c9c"
      },
      "execution_count": null,
      "outputs": [
        {
          "output_type": "execute_result",
          "data": {
            "text/plain": [
              "(10425, 18)"
            ]
          },
          "metadata": {},
          "execution_count": 86
        }
      ]
    },
    {
      "cell_type": "code",
      "source": [
        "datos1.dtypes"
      ],
      "metadata": {
        "id": "wr0LwMvrtYIM",
        "colab": {
          "base_uri": "https://localhost:8080/"
        },
        "outputId": "4563989c-ee2b-48e3-dbd2-ceba6bf70b49"
      },
      "execution_count": null,
      "outputs": [
        {
          "output_type": "execute_result",
          "data": {
            "text/plain": [
              "PLAN 4064                          object\n",
              "PERIODO                            object\n",
              "CARRERA                            object\n",
              "CÓDIGO                              int64\n",
              "ASIGNATURA                         object\n",
              "NOTA DEFINITIVA PREREQUISITO 1    float64\n",
              "NOTA DEFINITIVA PREREQUISITO 2    float64\n",
              "DOCUMENTO ESTUDIANTE                int64\n",
              "NOTAS PRIMER CORTE                float64\n",
              "PROMEDIO PARCIAL                  float64\n",
              "DEFINITIVA                        float64\n",
              "CALIFICACIÓN                        int64\n",
              "ASIGNATURA ANULADA                 object\n",
              "PROMEDIO SEMESTRAL                float64\n",
              "PROMEDIO ACUMULADO                float64\n",
              "APROBARON                           int64\n",
              "NO_APROBARON                        int64\n",
              "TOTAL_MATRICULADOS                  int64\n",
              "dtype: object"
            ]
          },
          "metadata": {},
          "execution_count": 87
        }
      ]
    },
    {
      "cell_type": "code",
      "source": [
        "IS2 = datos1[(datos1['CÓDIGO'] == 43390853) & (datos1['PERIODO'] != '2023-02')]\n",
        "IS2.dtypes"
      ],
      "metadata": {
        "id": "13cP1rBTutTk",
        "colab": {
          "base_uri": "https://localhost:8080/"
        },
        "outputId": "7bb9ab96-c19a-4dd0-c5c5-1c7de83e94b8"
      },
      "execution_count": null,
      "outputs": [
        {
          "output_type": "execute_result",
          "data": {
            "text/plain": [
              "PLAN 4064                          object\n",
              "PERIODO                            object\n",
              "CARRERA                            object\n",
              "CÓDIGO                              int64\n",
              "ASIGNATURA                         object\n",
              "NOTA DEFINITIVA PREREQUISITO 1    float64\n",
              "NOTA DEFINITIVA PREREQUISITO 2    float64\n",
              "DOCUMENTO ESTUDIANTE                int64\n",
              "NOTAS PRIMER CORTE                float64\n",
              "PROMEDIO PARCIAL                  float64\n",
              "DEFINITIVA                        float64\n",
              "CALIFICACIÓN                        int64\n",
              "ASIGNATURA ANULADA                 object\n",
              "PROMEDIO SEMESTRAL                float64\n",
              "PROMEDIO ACUMULADO                float64\n",
              "dtype: object"
            ]
          },
          "metadata": {},
          "execution_count": 60
        }
      ]
    }
  ]
}